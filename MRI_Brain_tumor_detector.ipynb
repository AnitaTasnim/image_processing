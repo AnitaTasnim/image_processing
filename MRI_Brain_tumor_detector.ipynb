{
  "nbformat": 4,
  "nbformat_minor": 0,
  "metadata": {
    "colab": {
      "provenance": [],
      "mount_file_id": "1Cue87hppBkj42ktFjwPU93ARFg5XgpzK",
      "authorship_tag": "ABX9TyPu0i8jJGfy2AjC8AeY40kA",
      "include_colab_link": true
    },
    "kernelspec": {
      "name": "python3",
      "display_name": "Python 3"
    },
    "language_info": {
      "name": "python"
    }
  },
  "cells": [
    {
      "cell_type": "markdown",
      "metadata": {
        "id": "view-in-github",
        "colab_type": "text"
      },
      "source": [
        "<a href=\"https://colab.research.google.com/github/AnitaTasnim/image_processing/blob/main/MRI_Brain_tumor_detector.ipynb\" target=\"_parent\"><img src=\"https://colab.research.google.com/assets/colab-badge.svg\" alt=\"Open In Colab\"/></a>"
      ]
    },
    {
      "cell_type": "markdown",
      "source": [
        "#finding the MRI brain tumor detection dataset"
      ],
      "metadata": {
        "id": "bE6UbxRDhwsa"
      }
    },
    {
      "cell_type": "code",
      "execution_count": null,
      "metadata": {
        "id": "4wJnssD0ho3x"
      },
      "outputs": [],
      "source": [
        "import numpy as np\n",
        "import torch\n",
        "from torch.utils.data import Dataset, DataLoader\n",
        "import glob #travel in directories and get all files with necessary extension\n",
        "import matplotlib.pyplot as plt\n",
        "from sklearn.metrics import confusion_matrix, accuracy_score\n",
        "import cv2 # for image processing\n",
        "\n",
        "\n"
      ]
    },
    {
      "cell_type": "code",
      "source": [],
      "metadata": {
        "id": "zCifmgAnlY4q"
      },
      "execution_count": null,
      "outputs": []
    },
    {
      "cell_type": "code",
      "source": [],
      "metadata": {
        "id": "taQLkicylyH6"
      },
      "execution_count": null,
      "outputs": []
    },
    {
      "cell_type": "markdown",
      "source": [
        "#Reading images"
      ],
      "metadata": {
        "id": "fWY_Rrq-l3V3"
      }
    },
    {
      "cell_type": "code",
      "source": [
        "tumor  = []\n",
        "path = '/content/drive/MyDrive/Projects and research/brain tumor/brain_tumor_dataset/yes/*.jpg'\n",
        "\n",
        "for f in glob.iglob(path):\n",
        "  img = cv2.imread(f)\n",
        "  tumor.append(img)\n",
        "\n",
        "\n",
        "\n",
        "\n"
      ],
      "metadata": {
        "id": "MlTZ5ZvYlY6r"
      },
      "execution_count": null,
      "outputs": []
    },
    {
      "cell_type": "code",
      "source": [
        "len(tumor)"
      ],
      "metadata": {
        "colab": {
          "base_uri": "https://localhost:8080/"
        },
        "id": "5FrrUmb0lY-e",
        "outputId": "92d24129-dd11-4c85-a675-2c67dd60e8c1"
      },
      "execution_count": null,
      "outputs": [
        {
          "output_type": "execute_result",
          "data": {
            "text/plain": [
              "86"
            ]
          },
          "metadata": {},
          "execution_count": 6
        }
      ]
    },
    {
      "cell_type": "code",
      "source": [
        "healthy  = []\n",
        "path = '/content/drive/MyDrive/Projects and research/brain tumor/brain_tumor_dataset/no/*.jpg'\n",
        "\n",
        "for f in glob.iglob(path):\n",
        "  img = cv2.imread(f)\n",
        "  healthy.append(img)\n",
        "\n",
        "\n",
        "\n"
      ],
      "metadata": {
        "id": "rhFG_9ZFlZAL"
      },
      "execution_count": null,
      "outputs": []
    },
    {
      "cell_type": "code",
      "source": [
        "len(healthy)"
      ],
      "metadata": {
        "colab": {
          "base_uri": "https://localhost:8080/"
        },
        "id": "R9oKWTi8nid4",
        "outputId": "2373cd8e-3135-4e42-eb75-ac634be29b08"
      },
      "execution_count": null,
      "outputs": [
        {
          "output_type": "execute_result",
          "data": {
            "text/plain": [
              "85"
            ]
          },
          "metadata": {},
          "execution_count": 8
        }
      ]
    },
    {
      "cell_type": "code",
      "source": [
        "for img in tumor:\n",
        "  print(img.shape)"
      ],
      "metadata": {
        "colab": {
          "base_uri": "https://localhost:8080/"
        },
        "id": "CVLfu3ZCnigK",
        "outputId": "0f1acbd7-1a78-49dc-996a-a8be6e4cd977"
      },
      "execution_count": null,
      "outputs": [
        {
          "output_type": "stream",
          "name": "stdout",
          "text": [
            "(300, 289, 3)\n",
            "(218, 180, 3)\n",
            "(246, 205, 3)\n",
            "(380, 310, 3)\n",
            "(993, 825, 3)\n",
            "(630, 587, 3)\n",
            "(500, 377, 3)\n",
            "(253, 200, 3)\n",
            "(336, 300, 3)\n",
            "(359, 300, 3)\n",
            "(512, 512, 3)\n",
            "(360, 319, 3)\n",
            "(369, 400, 3)\n",
            "(1200, 1059, 3)\n",
            "(431, 400, 3)\n",
            "(325, 254, 3)\n",
            "(890, 700, 3)\n",
            "(212, 209, 3)\n",
            "(300, 289, 3)\n",
            "(380, 294, 3)\n",
            "(1200, 1059, 3)\n",
            "(300, 263, 3)\n",
            "(1024, 1024, 3)\n",
            "(244, 206, 3)\n",
            "(325, 254, 3)\n",
            "(256, 256, 3)\n",
            "(300, 240, 3)\n",
            "(380, 310, 3)\n",
            "(347, 300, 3)\n",
            "(236, 213, 3)\n",
            "(630, 504, 3)\n",
            "(247, 204, 3)\n",
            "(237, 213, 3)\n",
            "(586, 467, 3)\n",
            "(450, 355, 3)\n",
            "(380, 318, 3)\n",
            "(879, 766, 3)\n",
            "(630, 630, 3)\n",
            "(512, 512, 3)\n",
            "(325, 300, 3)\n",
            "(630, 630, 3)\n",
            "(938, 911, 3)\n",
            "(210, 200, 3)\n",
            "(278, 236, 3)\n",
            "(380, 310, 3)\n",
            "(555, 526, 3)\n",
            "(630, 630, 3)\n",
            "(446, 450, 3)\n",
            "(1427, 1275, 3)\n",
            "(251, 201, 3)\n",
            "(325, 300, 3)\n",
            "(294, 250, 3)\n",
            "(219, 230, 3)\n",
            "(239, 211, 3)\n",
            "(519, 456, 3)\n",
            "(620, 620, 3)\n",
            "(929, 634, 3)\n",
            "(630, 628, 3)\n",
            "(360, 319, 3)\n",
            "(960, 781, 3)\n",
            "(325, 300, 3)\n",
            "(225, 225, 3)\n",
            "(256, 197, 3)\n",
            "(938, 911, 3)\n",
            "(630, 504, 3)\n",
            "(442, 353, 3)\n",
            "(294, 250, 3)\n",
            "(260, 194, 3)\n",
            "(255, 197, 3)\n",
            "(290, 250, 3)\n",
            "(938, 911, 3)\n",
            "(353, 300, 3)\n",
            "(456, 374, 3)\n",
            "(431, 400, 3)\n",
            "(520, 433, 3)\n",
            "(325, 300, 3)\n",
            "(251, 201, 3)\n",
            "(630, 630, 3)\n",
            "(620, 620, 3)\n",
            "(446, 450, 3)\n",
            "(938, 864, 3)\n",
            "(223, 226, 3)\n",
            "(234, 216, 3)\n",
            "(512, 512, 3)\n",
            "(225, 225, 3)\n",
            "(1280, 1061, 3)\n"
          ]
        }
      ]
    },
    {
      "cell_type": "code",
      "source": [],
      "metadata": {
        "id": "ASZuooTeniip"
      },
      "execution_count": null,
      "outputs": []
    },
    {
      "cell_type": "code",
      "source": [
        "tumor  = []\n",
        "path = '/content/drive/MyDrive/Projects and research/brain tumor/brain_tumor_dataset/yes/*.jpg'\n",
        "\n",
        "for f in glob.iglob(path):\n",
        "  img = cv2.imread(f)\n",
        "  img = cv2.resize(img,(128,128))\n",
        "  b,g,r = cv2.split(img)\n",
        "  img = cv2.merge([r,g,b])\n",
        "  tumor.append(img)\n",
        "\n",
        "\n",
        "\n",
        "\n"
      ],
      "metadata": {
        "id": "SxbDdfbAolb6"
      },
      "execution_count": 13,
      "outputs": []
    },
    {
      "cell_type": "code",
      "source": [
        "for img in tumor:\n",
        "  print(img.shape)"
      ],
      "metadata": {
        "id": "SY24CUNPoleb",
        "colab": {
          "base_uri": "https://localhost:8080/"
        },
        "outputId": "ae8bf13c-3c60-495f-a694-9a7be028778f"
      },
      "execution_count": 14,
      "outputs": [
        {
          "output_type": "stream",
          "name": "stdout",
          "text": [
            "(128, 128, 3)\n",
            "(128, 128, 3)\n",
            "(128, 128, 3)\n",
            "(128, 128, 3)\n",
            "(128, 128, 3)\n",
            "(128, 128, 3)\n",
            "(128, 128, 3)\n",
            "(128, 128, 3)\n",
            "(128, 128, 3)\n",
            "(128, 128, 3)\n",
            "(128, 128, 3)\n",
            "(128, 128, 3)\n",
            "(128, 128, 3)\n",
            "(128, 128, 3)\n",
            "(128, 128, 3)\n",
            "(128, 128, 3)\n",
            "(128, 128, 3)\n",
            "(128, 128, 3)\n",
            "(128, 128, 3)\n",
            "(128, 128, 3)\n",
            "(128, 128, 3)\n",
            "(128, 128, 3)\n",
            "(128, 128, 3)\n",
            "(128, 128, 3)\n",
            "(128, 128, 3)\n",
            "(128, 128, 3)\n",
            "(128, 128, 3)\n",
            "(128, 128, 3)\n",
            "(128, 128, 3)\n",
            "(128, 128, 3)\n",
            "(128, 128, 3)\n",
            "(128, 128, 3)\n",
            "(128, 128, 3)\n",
            "(128, 128, 3)\n",
            "(128, 128, 3)\n",
            "(128, 128, 3)\n",
            "(128, 128, 3)\n",
            "(128, 128, 3)\n",
            "(128, 128, 3)\n",
            "(128, 128, 3)\n",
            "(128, 128, 3)\n",
            "(128, 128, 3)\n",
            "(128, 128, 3)\n",
            "(128, 128, 3)\n",
            "(128, 128, 3)\n",
            "(128, 128, 3)\n",
            "(128, 128, 3)\n",
            "(128, 128, 3)\n",
            "(128, 128, 3)\n",
            "(128, 128, 3)\n",
            "(128, 128, 3)\n",
            "(128, 128, 3)\n",
            "(128, 128, 3)\n",
            "(128, 128, 3)\n",
            "(128, 128, 3)\n",
            "(128, 128, 3)\n",
            "(128, 128, 3)\n",
            "(128, 128, 3)\n",
            "(128, 128, 3)\n",
            "(128, 128, 3)\n",
            "(128, 128, 3)\n",
            "(128, 128, 3)\n",
            "(128, 128, 3)\n",
            "(128, 128, 3)\n",
            "(128, 128, 3)\n",
            "(128, 128, 3)\n",
            "(128, 128, 3)\n",
            "(128, 128, 3)\n",
            "(128, 128, 3)\n",
            "(128, 128, 3)\n",
            "(128, 128, 3)\n",
            "(128, 128, 3)\n",
            "(128, 128, 3)\n",
            "(128, 128, 3)\n",
            "(128, 128, 3)\n",
            "(128, 128, 3)\n",
            "(128, 128, 3)\n",
            "(128, 128, 3)\n",
            "(128, 128, 3)\n",
            "(128, 128, 3)\n",
            "(128, 128, 3)\n",
            "(128, 128, 3)\n",
            "(128, 128, 3)\n",
            "(128, 128, 3)\n",
            "(128, 128, 3)\n",
            "(128, 128, 3)\n"
          ]
        }
      ]
    },
    {
      "cell_type": "code",
      "source": [
        "healthy  = []\n",
        "path = '/content/drive/MyDrive/Projects and research/brain tumor/brain_tumor_dataset/no/*.jpg'\n",
        "\n",
        "\n",
        "for f in glob.iglob(path):\n",
        "  img = cv2.imread(f)\n",
        "  img = cv2.resize(img,(128,128))\n",
        "  b,g,r = cv2.split(img)\n",
        "  img = cv2.merge([r,g,b])\n",
        "  healthy.append(img)\n",
        "\n"
      ],
      "metadata": {
        "id": "mia8u5WYq3iA"
      },
      "execution_count": 15,
      "outputs": []
    },
    {
      "cell_type": "code",
      "source": [
        "for img in healthy:\n",
        "  print(img.shape)"
      ],
      "metadata": {
        "colab": {
          "base_uri": "https://localhost:8080/"
        },
        "id": "3-RSEkkBq3kS",
        "outputId": "cd7c848c-8027-461e-bdd0-f94cb4f13905"
      },
      "execution_count": 16,
      "outputs": [
        {
          "output_type": "stream",
          "name": "stdout",
          "text": [
            "(128, 128, 3)\n",
            "(128, 128, 3)\n",
            "(128, 128, 3)\n",
            "(128, 128, 3)\n",
            "(128, 128, 3)\n",
            "(128, 128, 3)\n",
            "(128, 128, 3)\n",
            "(128, 128, 3)\n",
            "(128, 128, 3)\n",
            "(128, 128, 3)\n",
            "(128, 128, 3)\n",
            "(128, 128, 3)\n",
            "(128, 128, 3)\n",
            "(128, 128, 3)\n",
            "(128, 128, 3)\n",
            "(128, 128, 3)\n",
            "(128, 128, 3)\n",
            "(128, 128, 3)\n",
            "(128, 128, 3)\n",
            "(128, 128, 3)\n",
            "(128, 128, 3)\n",
            "(128, 128, 3)\n",
            "(128, 128, 3)\n",
            "(128, 128, 3)\n",
            "(128, 128, 3)\n",
            "(128, 128, 3)\n",
            "(128, 128, 3)\n",
            "(128, 128, 3)\n",
            "(128, 128, 3)\n",
            "(128, 128, 3)\n",
            "(128, 128, 3)\n",
            "(128, 128, 3)\n",
            "(128, 128, 3)\n",
            "(128, 128, 3)\n",
            "(128, 128, 3)\n",
            "(128, 128, 3)\n",
            "(128, 128, 3)\n",
            "(128, 128, 3)\n",
            "(128, 128, 3)\n",
            "(128, 128, 3)\n",
            "(128, 128, 3)\n",
            "(128, 128, 3)\n",
            "(128, 128, 3)\n",
            "(128, 128, 3)\n",
            "(128, 128, 3)\n",
            "(128, 128, 3)\n",
            "(128, 128, 3)\n",
            "(128, 128, 3)\n",
            "(128, 128, 3)\n",
            "(128, 128, 3)\n",
            "(128, 128, 3)\n",
            "(128, 128, 3)\n",
            "(128, 128, 3)\n",
            "(128, 128, 3)\n",
            "(128, 128, 3)\n",
            "(128, 128, 3)\n",
            "(128, 128, 3)\n",
            "(128, 128, 3)\n",
            "(128, 128, 3)\n",
            "(128, 128, 3)\n",
            "(128, 128, 3)\n",
            "(128, 128, 3)\n",
            "(128, 128, 3)\n",
            "(128, 128, 3)\n",
            "(128, 128, 3)\n",
            "(128, 128, 3)\n",
            "(128, 128, 3)\n",
            "(128, 128, 3)\n",
            "(128, 128, 3)\n",
            "(128, 128, 3)\n",
            "(128, 128, 3)\n",
            "(128, 128, 3)\n",
            "(128, 128, 3)\n",
            "(128, 128, 3)\n",
            "(128, 128, 3)\n",
            "(128, 128, 3)\n",
            "(128, 128, 3)\n",
            "(128, 128, 3)\n",
            "(128, 128, 3)\n",
            "(128, 128, 3)\n",
            "(128, 128, 3)\n",
            "(128, 128, 3)\n",
            "(128, 128, 3)\n",
            "(128, 128, 3)\n",
            "(128, 128, 3)\n"
          ]
        }
      ]
    },
    {
      "cell_type": "code",
      "source": [
        "#convert all of these lists into numpy arrays\n",
        "healthy  = np.array(healthy)\n",
        "tumor = np.array(tumor)\n",
        "\n",
        "\n",
        "\n",
        "\n",
        "\n",
        "\n",
        "\n"
      ],
      "metadata": {
        "id": "fAhppS1Eq3mf"
      },
      "execution_count": 19,
      "outputs": []
    },
    {
      "cell_type": "code",
      "source": [
        "tumor.shape"
      ],
      "metadata": {
        "colab": {
          "base_uri": "https://localhost:8080/"
        },
        "id": "nSjElT_Ir8e3",
        "outputId": "8dab3d11-3b5a-473d-9485-f0f2bd4b1a85"
      },
      "execution_count": 20,
      "outputs": [
        {
          "output_type": "execute_result",
          "data": {
            "text/plain": [
              "(86, 128, 128, 3)"
            ]
          },
          "metadata": {},
          "execution_count": 20
        }
      ]
    },
    {
      "cell_type": "code",
      "source": [
        "ALL  =  np.concatenate((healthy,tumor))"
      ],
      "metadata": {
        "id": "SyoUxqnBr8hb"
      },
      "execution_count": 23,
      "outputs": []
    },
    {
      "cell_type": "code",
      "source": [
        "ALL.shape"
      ],
      "metadata": {
        "colab": {
          "base_uri": "https://localhost:8080/"
        },
        "id": "3tX5ACl9r8jh",
        "outputId": "029351ba-5853-4809-cf3e-38186d08ac37"
      },
      "execution_count": 24,
      "outputs": [
        {
          "output_type": "execute_result",
          "data": {
            "text/plain": [
              "(171, 128, 128, 3)"
            ]
          },
          "metadata": {},
          "execution_count": 24
        }
      ]
    },
    {
      "cell_type": "code",
      "source": [],
      "metadata": {
        "id": "8SQI4ugQolhF"
      },
      "execution_count": null,
      "outputs": []
    }
  ]
}