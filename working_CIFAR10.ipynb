{
  "nbformat": 4,
  "nbformat_minor": 0,
  "metadata": {
    "colab": {
      "provenance": [],
      "authorship_tag": "ABX9TyMFPFpNuS1TDlEtJuYOIPgA",
      "include_colab_link": true
    },
    "kernelspec": {
      "name": "python3",
      "display_name": "Python 3"
    },
    "language_info": {
      "name": "python"
    }
  },
  "cells": [
    {
      "cell_type": "markdown",
      "metadata": {
        "id": "view-in-github",
        "colab_type": "text"
      },
      "source": [
        "<a href=\"https://colab.research.google.com/github/AnitaTasnim/image_processing/blob/main/working_CIFAR10.ipynb\" target=\"_parent\"><img src=\"https://colab.research.google.com/assets/colab-badge.svg\" alt=\"Open In Colab\"/></a>"
      ]
    },
    {
      "cell_type": "markdown",
      "source": [
        "cifar10 consists of 60000 32*32 RGB images,\n",
        "labeled  with an integer corresponding to 1 to 10 class\n",
        "\n",
        " classes: airplane (0), automobile (1), bird (2), cat (3),\n",
        "deer (4), dog (5), frog (6), horse (7), ship (8), and truck (9)."
      ],
      "metadata": {
        "id": "YGgjX6N6UBpW"
      }
    },
    {
      "cell_type": "code",
      "execution_count": null,
      "metadata": {
        "id": "oDCm22wrT78q"
      },
      "outputs": [],
      "source": [
        "import torch\n",
        "import matplotlib.pyplot as plt"
      ]
    },
    {
      "cell_type": "code",
      "source": [
        "!git clone https://github.com/deep-learning-with-pytorch/dlwpt-code"
      ],
      "metadata": {
        "colab": {
          "base_uri": "https://localhost:8080/"
        },
        "id": "wPzGYTB7cpth",
        "outputId": "327023f4-ba93-4357-d66f-9970d46c19c1"
      },
      "execution_count": null,
      "outputs": [
        {
          "output_type": "stream",
          "name": "stdout",
          "text": [
            "Cloning into 'dlwpt-code'...\n",
            "remote: Enumerating objects: 703, done.\u001b[K\n",
            "remote: Counting objects: 100% (149/149), done.\u001b[K\n",
            "remote: Compressing objects: 100% (62/62), done.\u001b[K\n",
            "remote: Total 703 (delta 106), reused 87 (delta 87), pack-reused 554\u001b[K\n",
            "Receiving objects: 100% (703/703), 175.17 MiB | 29.13 MiB/s, done.\n",
            "Resolving deltas: 100% (318/318), done.\n",
            "Updating files: 100% (228/228), done.\n"
          ]
        }
      ]
    },
    {
      "cell_type": "markdown",
      "source": [
        "#load dataset"
      ],
      "metadata": {
        "id": "r4eU-6sjboOi"
      }
    },
    {
      "cell_type": "code",
      "source": [
        "from torchvision import datasets\n",
        "data_path = '/content/dataset_cifar10'"
      ],
      "metadata": {
        "id": "nAFQDseRbtlC"
      },
      "execution_count": null,
      "outputs": []
    },
    {
      "cell_type": "code",
      "source": [
        "cifar10 = datasets.CIFAR10(data_path, train=True, download=True)\n"
      ],
      "metadata": {
        "colab": {
          "base_uri": "https://localhost:8080/"
        },
        "id": "kZkNx5n8d1rd",
        "outputId": "083b5b7e-6315-4cd2-f1db-f9943add5307"
      },
      "execution_count": null,
      "outputs": [
        {
          "output_type": "stream",
          "name": "stdout",
          "text": [
            "Downloading https://www.cs.toronto.edu/~kriz/cifar-10-python.tar.gz to /content/dataset_cifar10/cifar-10-python.tar.gz\n"
          ]
        },
        {
          "output_type": "stream",
          "name": "stderr",
          "text": [
            "100%|██████████| 170498071/170498071 [00:01<00:00, 89711202.68it/s]\n"
          ]
        },
        {
          "output_type": "stream",
          "name": "stdout",
          "text": [
            "Extracting /content/dataset_cifar10/cifar-10-python.tar.gz to /content/dataset_cifar10\n"
          ]
        }
      ]
    },
    {
      "cell_type": "code",
      "source": [
        "cifar10_val = datasets.CIFAR10(data_path,train=False, download = True)"
      ],
      "metadata": {
        "colab": {
          "base_uri": "https://localhost:8080/"
        },
        "id": "4NN0LMcUe4Ya",
        "outputId": "7b483b26-b69e-4a60-b072-7c2057d739d7"
      },
      "execution_count": null,
      "outputs": [
        {
          "output_type": "stream",
          "name": "stdout",
          "text": [
            "Files already downloaded and verified\n"
          ]
        }
      ]
    },
    {
      "cell_type": "code",
      "source": [
        "type(cifar10)"
      ],
      "metadata": {
        "colab": {
          "base_uri": "https://localhost:8080/"
        },
        "id": "NAQTP9IlesDa",
        "outputId": "746fd14a-05a1-4106-8ed6-96ade6709dfc"
      },
      "execution_count": null,
      "outputs": [
        {
          "output_type": "execute_result",
          "data": {
            "text/plain": [
              "torchvision.datasets.cifar.CIFAR10"
            ]
          },
          "metadata": {},
          "execution_count": 6
        }
      ]
    },
    {
      "cell_type": "code",
      "source": [
        "len(cifar10)"
      ],
      "metadata": {
        "colab": {
          "base_uri": "https://localhost:8080/"
        },
        "id": "Gr9zuqSuf6NI",
        "outputId": "445dcdca-f159-422a-b58e-6d16cebd279c"
      },
      "execution_count": null,
      "outputs": [
        {
          "output_type": "execute_result",
          "data": {
            "text/plain": [
              "50000"
            ]
          },
          "metadata": {},
          "execution_count": 11
        }
      ]
    },
    {
      "cell_type": "code",
      "source": [
        "len(cifar10_val)"
      ],
      "metadata": {
        "colab": {
          "base_uri": "https://localhost:8080/"
        },
        "id": "EUWO_KZ0f8yO",
        "outputId": "7ff6df36-c9d3-444d-da60-2694d6d7ddb2"
      },
      "execution_count": null,
      "outputs": [
        {
          "output_type": "execute_result",
          "data": {
            "text/plain": [
              "10000"
            ]
          },
          "metadata": {},
          "execution_count": 13
        }
      ]
    },
    {
      "cell_type": "code",
      "source": [
        "cifar10"
      ],
      "metadata": {
        "colab": {
          "base_uri": "https://localhost:8080/"
        },
        "id": "2vyCAFJSf80u",
        "outputId": "f957451f-4300-4cdc-f193-75aa3a3c7e9b"
      },
      "execution_count": null,
      "outputs": [
        {
          "output_type": "execute_result",
          "data": {
            "text/plain": [
              "Dataset CIFAR10\n",
              "    Number of datapoints: 50000\n",
              "    Root location: /content/dataset_cifar10\n",
              "    Split: Train"
            ]
          },
          "metadata": {},
          "execution_count": 14
        }
      ]
    },
    {
      "cell_type": "code",
      "source": [
        "cifar10_val"
      ],
      "metadata": {
        "colab": {
          "base_uri": "https://localhost:8080/"
        },
        "id": "IwfOAdWwgTcw",
        "outputId": "890527a9-d434-4b18-f945-c2ba554f5b41"
      },
      "execution_count": null,
      "outputs": [
        {
          "output_type": "execute_result",
          "data": {
            "text/plain": [
              "Dataset CIFAR10\n",
              "    Number of datapoints: 10000\n",
              "    Root location: /content/dataset_cifar10\n",
              "    Split: Test"
            ]
          },
          "metadata": {},
          "execution_count": 15
        }
      ]
    },
    {
      "cell_type": "code",
      "source": [
        "cifar10[0]\n"
      ],
      "metadata": {
        "colab": {
          "base_uri": "https://localhost:8080/"
        },
        "id": "zmiafrndgTe_",
        "outputId": "32242e89-0485-4d78-c46b-4e0a4368f6e6"
      },
      "execution_count": null,
      "outputs": [
        {
          "output_type": "execute_result",
          "data": {
            "text/plain": [
              "(<PIL.Image.Image image mode=RGB size=32x32>, 6)"
            ]
          },
          "metadata": {},
          "execution_count": 16
        }
      ]
    },
    {
      "cell_type": "markdown",
      "source": [
        "visualize dataset"
      ],
      "metadata": {
        "id": "uo-Du-oKUBiK"
      }
    },
    {
      "cell_type": "code",
      "source": [
        "img, label = cifar10[99]\n",
        "img, label"
      ],
      "metadata": {
        "colab": {
          "base_uri": "https://localhost:8080/"
        },
        "id": "VDILp1AwhBX_",
        "outputId": "67254eeb-d4a0-4ad1-a828-e44276025860"
      },
      "execution_count": null,
      "outputs": [
        {
          "output_type": "execute_result",
          "data": {
            "text/plain": [
              "(<PIL.Image.Image image mode=RGB size=32x32>, 1)"
            ]
          },
          "metadata": {},
          "execution_count": 19
        }
      ]
    },
    {
      "cell_type": "code",
      "source": [
        "img, label = cifar10[99]\n",
        "img, label"
      ],
      "metadata": {
        "colab": {
          "base_uri": "https://localhost:8080/"
        },
        "id": "SXKaK7cZhhz9",
        "outputId": "b338ac94-3021-4e85-d0b8-8b2c0f98a641"
      },
      "execution_count": null,
      "outputs": [
        {
          "output_type": "execute_result",
          "data": {
            "text/plain": [
              "(<PIL.Image.Image image mode=RGB size=32x32>, 1)"
            ]
          },
          "metadata": {},
          "execution_count": 23
        }
      ]
    },
    {
      "cell_type": "code",
      "source": [
        "plt.imshow(img)"
      ],
      "metadata": {
        "colab": {
          "base_uri": "https://localhost:8080/",
          "height": 447
        },
        "id": "x-xH0rFWgzrE",
        "outputId": "9cab9528-9e3c-4361-aad6-332b27a81081"
      },
      "execution_count": null,
      "outputs": [
        {
          "output_type": "execute_result",
          "data": {
            "text/plain": [
              "<matplotlib.image.AxesImage at 0x7bb812bd0f70>"
            ]
          },
          "metadata": {},
          "execution_count": 24
        },
        {
          "output_type": "display_data",
          "data": {
            "text/plain": [
              "<Figure size 640x480 with 1 Axes>"
            ],
            "image/png": "[encoded data removed]"
          },
          "metadata": {}
        }
      ]
    },
    {
      "cell_type": "markdown",
      "source": [
        "Okay, its a red car, but we need this PIL image to PyTorch tensor before we can do anything with it"
      ],
      "metadata": {
        "id": "DpKa1vjaiJvJ"
      }
    },
    {
      "cell_type": "markdown",
      "source": [
        "so, we need torchvision.transforms"
      ],
      "metadata": {
        "id": "alBSo8SbiWzc"
      }
    },
    {
      "cell_type": "code",
      "source": [
        "from torchvision import transforms\n",
        "dir(transforms)"
      ],
      "metadata": {
        "colab": {
          "base_uri": "https://localhost:8080/"
        },
        "id": "UsJgJyRmiWQG",
        "outputId": "479aad06-f07d-4444-ac36-dc91709d3095"
      },
      "execution_count": null,
      "outputs": [
        {
          "output_type": "execute_result",
          "data": {
            "text/plain": [
              "['AugMix',\n",
              " 'AutoAugment',\n",
              " 'AutoAugmentPolicy',\n",
              " 'CenterCrop',\n",
              " 'ColorJitter',\n",
              " 'Compose',\n",
              " 'ConvertImageDtype',\n",
              " 'ElasticTransform',\n",
              " 'FiveCrop',\n",
              " 'GaussianBlur',\n",
              " 'Grayscale',\n",
              " 'InterpolationMode',\n",
              " 'Lambda',\n",
              " 'LinearTransformation',\n",
              " 'Normalize',\n",
              " 'PILToTensor',\n",
              " 'Pad',\n",
              " 'RandAugment',\n",
              " 'RandomAdjustSharpness',\n",
              " 'RandomAffine',\n",
              " 'RandomApply',\n",
              " 'RandomAutocontrast',\n",
              " 'RandomChoice',\n",
              " 'RandomCrop',\n",
              " 'RandomEqualize',\n",
              " 'RandomErasing',\n",
              " 'RandomGrayscale',\n",
              " 'RandomHorizontalFlip',\n",
              " 'RandomInvert',\n",
              " 'RandomOrder',\n",
              " 'RandomPerspective',\n",
              " 'RandomPosterize',\n",
              " 'RandomResizedCrop',\n",
              " 'RandomRotation',\n",
              " 'RandomSolarize',\n",
              " 'RandomVerticalFlip',\n",
              " 'Resize',\n",
              " 'TenCrop',\n",
              " 'ToPILImage',\n",
              " 'ToTensor',\n",
              " 'TrivialAugmentWide',\n",
              " '__builtins__',\n",
              " '__cached__',\n",
              " '__doc__',\n",
              " '__file__',\n",
              " '__loader__',\n",
              " '__name__',\n",
              " '__package__',\n",
              " '__path__',\n",
              " '__spec__',\n",
              " '_functional_pil',\n",
              " '_functional_tensor',\n",
              " '_presets',\n",
              " 'autoaugment',\n",
              " 'functional',\n",
              " 'transforms']"
            ]
          },
          "metadata": {},
          "execution_count": 27
        }
      ]
    },
    {
      "cell_type": "markdown",
      "source": [
        "Among those transforms, we can spot ToTensor, which turns NumPy arrays and PIL\n",
        "images to tensors. It also takes care to lay out the dimensions of the output tensor as\n",
        "C × H × W (channel, height, width;"
      ],
      "metadata": {
        "id": "_OiE3pMskj1i"
      }
    },
    {
      "cell_type": "code",
      "source": [
        "to_tensor = transforms.ToTensor()\n",
        "img_t = to_tensor(img)\n",
        "img_t.shape #channel, height, width"
      ],
      "metadata": {
        "colab": {
          "base_uri": "https://localhost:8080/"
        },
        "id": "ICw-tedrjYTq",
        "outputId": "f4a9386d-0a28-415d-a1e7-4b253d2c9489"
      },
      "execution_count": null,
      "outputs": [
        {
          "output_type": "execute_result",
          "data": {
            "text/plain": [
              "torch.Size([3, 32, 32])"
            ]
          },
          "metadata": {},
          "execution_count": 28
        }
      ]
    },
    {
      "cell_type": "code",
      "source": [
        "img_t"
      ],
      "metadata": {
        "colab": {
          "base_uri": "https://localhost:8080/"
        },
        "id": "Vo0Ej41ekyX7",
        "outputId": "4c71940b-aab4-4ce2-a463-7774d061460e"
      },
      "execution_count": null,
      "outputs": [
        {
          "output_type": "execute_result",
          "data": {
            "text/plain": [
              "tensor([[[0.2431, 0.1961, 0.1804,  ..., 0.6549, 0.7176, 0.5373],\n",
              "         [0.2471, 0.2157, 0.2039,  ..., 0.6392, 0.6706, 0.5686],\n",
              "         [0.2275, 0.2510, 0.2196,  ..., 0.6000, 0.5882, 0.4824],\n",
              "         ...,\n",
              "         [0.6745, 0.5608, 0.5098,  ..., 0.3686, 0.5529, 0.5451],\n",
              "         [0.7176, 0.5882, 0.3137,  ..., 0.3176, 0.5294, 0.5608],\n",
              "         [0.8196, 0.7137, 0.5451,  ..., 0.2314, 0.5098, 0.6627]],\n",
              "\n",
              "        [[0.2510, 0.1961, 0.1725,  ..., 0.6745, 0.7216, 0.5333],\n",
              "         [0.2549, 0.2078, 0.1961,  ..., 0.6627, 0.6824, 0.5725],\n",
              "         [0.2431, 0.2588, 0.2353,  ..., 0.6078, 0.6039, 0.5020],\n",
              "         ...,\n",
              "         [0.5294, 0.4314, 0.2196,  ..., 0.2941, 0.4235, 0.4118],\n",
              "         [0.5725, 0.4627, 0.2510,  ..., 0.2824, 0.4627, 0.4902],\n",
              "         [0.6824, 0.5922, 0.4275,  ..., 0.2118, 0.4667, 0.6118]],\n",
              "\n",
              "        [[0.1725, 0.1020, 0.0745,  ..., 0.2706, 0.2980, 0.2824],\n",
              "         [0.1451, 0.1020, 0.1059,  ..., 0.2392, 0.2941, 0.3020],\n",
              "         [0.1412, 0.1451, 0.1451,  ..., 0.2431, 0.2510, 0.2235],\n",
              "         ...,\n",
              "         [0.3882, 0.3294, 0.1647,  ..., 0.2196, 0.3373, 0.3176],\n",
              "         [0.4588, 0.3725, 0.1725,  ..., 0.2353, 0.3843, 0.4314],\n",
              "         [0.5647, 0.4824, 0.3255,  ..., 0.1843, 0.4353, 0.6275]]])"
            ]
          },
          "metadata": {},
          "execution_count": 29
        }
      ]
    },
    {
      "cell_type": "markdown",
      "source": [
        "we can pass the transform directly as an argument to dataset\n",
        ".CIFAR10:"
      ],
      "metadata": {
        "id": "FRG160r8n6W-"
      }
    },
    {
      "cell_type": "code",
      "source": [
        "tensor_cifar10 = datasets.CIFAR10(data_path, train=True, download=False, transform=transforms.ToTensor())"
      ],
      "metadata": {
        "id": "mMk6z8oany8f"
      },
      "execution_count": null,
      "outputs": []
    },
    {
      "cell_type": "code",
      "source": [
        "tensor_cifar10"
      ],
      "metadata": {
        "colab": {
          "base_uri": "https://localhost:8080/"
        },
        "id": "WQBkgOYeqRcZ",
        "outputId": "31e1ed2c-2ac1-4ce8-e6f7-e9616836c3f0"
      },
      "execution_count": null,
      "outputs": [
        {
          "output_type": "execute_result",
          "data": {
            "text/plain": [
              "Dataset CIFAR10\n",
              "    Number of datapoints: 50000\n",
              "    Root location: /content/dataset_cifar10\n",
              "    Split: Train\n",
              "    StandardTransform\n",
              "Transform: ToTensor()"
            ]
          },
          "metadata": {},
          "execution_count": 50
        }
      ]
    },
    {
      "cell_type": "code",
      "source": [
        "tensor_cifar10[99]"
      ],
      "metadata": {
        "colab": {
          "base_uri": "https://localhost:8080/"
        },
        "id": "A44n9cDAqUR-",
        "outputId": "18b17c81-281b-45ed-a378-0fd876fb8df6"
      },
      "execution_count": null,
      "outputs": [
        {
          "output_type": "execute_result",
          "data": {
            "text/plain": [
              "(tensor([[[0.2431, 0.1961, 0.1804,  ..., 0.6549, 0.7176, 0.5373],\n",
              "          [0.2471, 0.2157, 0.2039,  ..., 0.6392, 0.6706, 0.5686],\n",
              "          [0.2275, 0.2510, 0.2196,  ..., 0.6000, 0.5882, 0.4824],\n",
              "          ...,\n",
              "          [0.6745, 0.5608, 0.5098,  ..., 0.3686, 0.5529, 0.5451],\n",
              "          [0.7176, 0.5882, 0.3137,  ..., 0.3176, 0.5294, 0.5608],\n",
              "          [0.8196, 0.7137, 0.5451,  ..., 0.2314, 0.5098, 0.6627]],\n",
              " \n",
              "         [[0.2510, 0.1961, 0.1725,  ..., 0.6745, 0.7216, 0.5333],\n",
              "          [0.2549, 0.2078, 0.1961,  ..., 0.6627, 0.6824, 0.5725],\n",
              "          [0.2431, 0.2588, 0.2353,  ..., 0.6078, 0.6039, 0.5020],\n",
              "          ...,\n",
              "          [0.5294, 0.4314, 0.2196,  ..., 0.2941, 0.4235, 0.4118],\n",
              "          [0.5725, 0.4627, 0.2510,  ..., 0.2824, 0.4627, 0.4902],\n",
              "          [0.6824, 0.5922, 0.4275,  ..., 0.2118, 0.4667, 0.6118]],\n",
              " \n",
              "         [[0.1725, 0.1020, 0.0745,  ..., 0.2706, 0.2980, 0.2824],\n",
              "          [0.1451, 0.1020, 0.1059,  ..., 0.2392, 0.2941, 0.3020],\n",
              "          [0.1412, 0.1451, 0.1451,  ..., 0.2431, 0.2510, 0.2235],\n",
              "          ...,\n",
              "          [0.3882, 0.3294, 0.1647,  ..., 0.2196, 0.3373, 0.3176],\n",
              "          [0.4588, 0.3725, 0.1725,  ..., 0.2353, 0.3843, 0.4314],\n",
              "          [0.5647, 0.4824, 0.3255,  ..., 0.1843, 0.4353, 0.6275]]]),\n",
              " 1)"
            ]
          },
          "metadata": {},
          "execution_count": 51
        }
      ]
    },
    {
      "cell_type": "markdown",
      "source": [
        "In the tuple (tensor([[[...]]]), 1), the second value, which is 1, represents the label or class of the image."
      ],
      "metadata": {
        "id": "ZxnRdAd8qnyl"
      }
    },
    {
      "cell_type": "code",
      "source": [
        "img_tensor,_ = tensor_cifar10[99] #, the underscore _ is used as a convention to discard the second value returned by the tensor_cifar10[99] expression."
      ],
      "metadata": {
        "id": "FziO5RPPoREZ"
      },
      "execution_count": null,
      "outputs": []
    },
    {
      "cell_type": "code",
      "source": [
        "img_tensor"
      ],
      "metadata": {
        "colab": {
          "base_uri": "https://localhost:8080/"
        },
        "id": "P3x47xQ1os2Y",
        "outputId": "cd01db3a-6dd6-4170-fe57-9ef37d850176"
      },
      "execution_count": null,
      "outputs": [
        {
          "output_type": "execute_result",
          "data": {
            "text/plain": [
              "tensor([[[0.2431, 0.1961, 0.1804,  ..., 0.6549, 0.7176, 0.5373],\n",
              "         [0.2471, 0.2157, 0.2039,  ..., 0.6392, 0.6706, 0.5686],\n",
              "         [0.2275, 0.2510, 0.2196,  ..., 0.6000, 0.5882, 0.4824],\n",
              "         ...,\n",
              "         [0.6745, 0.5608, 0.5098,  ..., 0.3686, 0.5529, 0.5451],\n",
              "         [0.7176, 0.5882, 0.3137,  ..., 0.3176, 0.5294, 0.5608],\n",
              "         [0.8196, 0.7137, 0.5451,  ..., 0.2314, 0.5098, 0.6627]],\n",
              "\n",
              "        [[0.2510, 0.1961, 0.1725,  ..., 0.6745, 0.7216, 0.5333],\n",
              "         [0.2549, 0.2078, 0.1961,  ..., 0.6627, 0.6824, 0.5725],\n",
              "         [0.2431, 0.2588, 0.2353,  ..., 0.6078, 0.6039, 0.5020],\n",
              "         ...,\n",
              "         [0.5294, 0.4314, 0.2196,  ..., 0.2941, 0.4235, 0.4118],\n",
              "         [0.5725, 0.4627, 0.2510,  ..., 0.2824, 0.4627, 0.4902],\n",
              "         [0.6824, 0.5922, 0.4275,  ..., 0.2118, 0.4667, 0.6118]],\n",
              "\n",
              "        [[0.1725, 0.1020, 0.0745,  ..., 0.2706, 0.2980, 0.2824],\n",
              "         [0.1451, 0.1020, 0.1059,  ..., 0.2392, 0.2941, 0.3020],\n",
              "         [0.1412, 0.1451, 0.1451,  ..., 0.2431, 0.2510, 0.2235],\n",
              "         ...,\n",
              "         [0.3882, 0.3294, 0.1647,  ..., 0.2196, 0.3373, 0.3176],\n",
              "         [0.4588, 0.3725, 0.1725,  ..., 0.2353, 0.3843, 0.4314],\n",
              "         [0.5647, 0.4824, 0.3255,  ..., 0.1843, 0.4353, 0.6275]]])"
            ]
          },
          "metadata": {},
          "execution_count": 53
        }
      ]
    },
    {
      "cell_type": "code",
      "source": [
        "img_tensor.shape"
      ],
      "metadata": {
        "colab": {
          "base_uri": "https://localhost:8080/"
        },
        "id": "AFVJ_AVQpQtk",
        "outputId": "39f44bf9-094d-43f7-d0d7-9b8ce228b30e"
      },
      "execution_count": null,
      "outputs": [
        {
          "output_type": "execute_result",
          "data": {
            "text/plain": [
              "torch.Size([3, 32, 32])"
            ]
          },
          "metadata": {},
          "execution_count": 54
        }
      ]
    },
    {
      "cell_type": "code",
      "source": [
        "img_tensor.dtype"
      ],
      "metadata": {
        "colab": {
          "base_uri": "https://localhost:8080/"
        },
        "id": "WQntsAg6pcYz",
        "outputId": "3615f951-cf3d-485c-c622-561708f66279"
      },
      "execution_count": null,
      "outputs": [
        {
          "output_type": "execute_result",
          "data": {
            "text/plain": [
              "torch.float32"
            ]
          },
          "metadata": {},
          "execution_count": 55
        }
      ]
    },
    {
      "cell_type": "markdown",
      "source": [
        "ToTensor Transformation: When you apply the transforms.ToTensor() transformation, it converts the image into a PyTorch tensor. During this conversion, it scales down the pixel values. Instead of using integers in the range 0-255, it represents each pixel value as a 32-bit floating-point number between 0.0 and 1.0.\n",
        "\n",
        "\n",
        "1. For example, a pixel value of 128 in the original image would become approximately 0.5 in the PyTorch tensor, as (128 / 255) ≈ 0.5.\n"
      ],
      "metadata": {
        "id": "2r3LFY6KsVqs"
      }
    },
    {
      "cell_type": "code",
      "source": [
        "img_t.min()"
      ],
      "metadata": {
        "colab": {
          "base_uri": "https://localhost:8080/"
        },
        "id": "xdc4dat4pdYA",
        "outputId": "1c4a8f45-e168-4a8b-d64d-f660aec3b1bc"
      },
      "execution_count": null,
      "outputs": [
        {
          "output_type": "execute_result",
          "data": {
            "text/plain": [
              "tensor(0.)"
            ]
          },
          "metadata": {},
          "execution_count": 56
        }
      ]
    },
    {
      "cell_type": "code",
      "source": [
        "img_t.max()"
      ],
      "metadata": {
        "colab": {
          "base_uri": "https://localhost:8080/"
        },
        "id": "5qL8R3R6t_49",
        "outputId": "0326dc94-2937-4698-d8c2-480c139a65db"
      },
      "execution_count": null,
      "outputs": [
        {
          "output_type": "execute_result",
          "data": {
            "text/plain": [
              "tensor(1.)"
            ]
          },
          "metadata": {},
          "execution_count": 57
        }
      ]
    },
    {
      "cell_type": "markdown",
      "source": [
        "Pytorch expect C H W order in image,\n",
        "\n",
        "but matplotlib expects H W C order in image\n",
        "\n",
        "\n",
        "so we need to permute the order"
      ],
      "metadata": {
        "id": "77_GIJh1uOvG"
      }
    },
    {
      "cell_type": "code",
      "source": [
        "plt.imshow(img_t)"
      ],
      "metadata": {
        "colab": {
          "base_uri": "https://localhost:8080/",
          "height": 739
        },
        "id": "vyIUtKF3uB2a",
        "outputId": "d2e2cc10-578a-4803-c392-682693171d5b"
      },
      "execution_count": null,
      "outputs": [
        {
          "output_type": "error",
          "ename": "TypeError",
          "evalue": "ignored",
          "traceback": [
            "\u001b[0;31m---------------------------------------------------------------------------\u001b[0m",
            "\u001b[0;31mTypeError\u001b[0m                                 Traceback (most recent call last)",
            "\u001b[0;32m<ipython-input-58-75acc96f635c>\u001b[0m in \u001b[0;36m<cell line: 1>\u001b[0;34m()\u001b[0m\n\u001b[0;32m----> 1\u001b[0;31m \u001b[0mplt\u001b[0m\u001b[0;34m.\u001b[0m\u001b[0mimshow\u001b[0m\u001b[0;34m(\u001b[0m\u001b[0mimg_t\u001b[0m\u001b[0;34m)\u001b[0m\u001b[0;34m\u001b[0m\u001b[0;34m\u001b[0m\u001b[0m\n\u001b[0m",
            "\u001b[0;32m/usr/local/lib/python3.10/dist-packages/matplotlib/pyplot.py\u001b[0m in \u001b[0;36mimshow\u001b[0;34m(X, cmap, norm, aspect, interpolation, alpha, vmin, vmax, origin, extent, interpolation_stage, filternorm, filterrad, resample, url, data, **kwargs)\u001b[0m\n\u001b[1;32m   2693\u001b[0m         \u001b[0minterpolation_stage\u001b[0m\u001b[0;34m=\u001b[0m\u001b[0;32mNone\u001b[0m\u001b[0;34m,\u001b[0m \u001b[0mfilternorm\u001b[0m\u001b[0;34m=\u001b[0m\u001b[0;32mTrue\u001b[0m\u001b[0;34m,\u001b[0m \u001b[0mfilterrad\u001b[0m\u001b[0;34m=\u001b[0m\u001b[0;36m4.0\u001b[0m\u001b[0;34m,\u001b[0m\u001b[0;34m\u001b[0m\u001b[0;34m\u001b[0m\u001b[0m\n\u001b[1;32m   2694\u001b[0m         resample=None, url=None, data=None, **kwargs):\n\u001b[0;32m-> 2695\u001b[0;31m     __ret = gca().imshow(\n\u001b[0m\u001b[1;32m   2696\u001b[0m         \u001b[0mX\u001b[0m\u001b[0;34m,\u001b[0m \u001b[0mcmap\u001b[0m\u001b[0;34m=\u001b[0m\u001b[0mcmap\u001b[0m\u001b[0;34m,\u001b[0m \u001b[0mnorm\u001b[0m\u001b[0;34m=\u001b[0m\u001b[0mnorm\u001b[0m\u001b[0;34m,\u001b[0m \u001b[0maspect\u001b[0m\u001b[0;34m=\u001b[0m\u001b[0maspect\u001b[0m\u001b[0;34m,\u001b[0m\u001b[0;34m\u001b[0m\u001b[0;34m\u001b[0m\u001b[0m\n\u001b[1;32m   2697\u001b[0m         \u001b[0minterpolation\u001b[0m\u001b[0;34m=\u001b[0m\u001b[0minterpolation\u001b[0m\u001b[0;34m,\u001b[0m \u001b[0malpha\u001b[0m\u001b[0;34m=\u001b[0m\u001b[0malpha\u001b[0m\u001b[0;34m,\u001b[0m \u001b[0mvmin\u001b[0m\u001b[0;34m=\u001b[0m\u001b[0mvmin\u001b[0m\u001b[0;34m,\u001b[0m\u001b[0;34m\u001b[0m\u001b[0;34m\u001b[0m\u001b[0m\n",
            "\u001b[0;32m/usr/local/lib/python3.10/dist-packages/matplotlib/__init__.py\u001b[0m in \u001b[0;36minner\u001b[0;34m(ax, data, *args, **kwargs)\u001b[0m\n\u001b[1;32m   1440\u001b[0m     \u001b[0;32mdef\u001b[0m \u001b[0minner\u001b[0m\u001b[0;34m(\u001b[0m\u001b[0max\u001b[0m\u001b[0;34m,\u001b[0m \u001b[0;34m*\u001b[0m\u001b[0margs\u001b[0m\u001b[0;34m,\u001b[0m \u001b[0mdata\u001b[0m\u001b[0;34m=\u001b[0m\u001b[0;32mNone\u001b[0m\u001b[0;34m,\u001b[0m \u001b[0;34m**\u001b[0m\u001b[0mkwargs\u001b[0m\u001b[0;34m)\u001b[0m\u001b[0;34m:\u001b[0m\u001b[0;34m\u001b[0m\u001b[0;34m\u001b[0m\u001b[0m\n\u001b[1;32m   1441\u001b[0m         \u001b[0;32mif\u001b[0m \u001b[0mdata\u001b[0m \u001b[0;32mis\u001b[0m \u001b[0;32mNone\u001b[0m\u001b[0;34m:\u001b[0m\u001b[0;34m\u001b[0m\u001b[0;34m\u001b[0m\u001b[0m\n\u001b[0;32m-> 1442\u001b[0;31m             \u001b[0;32mreturn\u001b[0m \u001b[0mfunc\u001b[0m\u001b[0;34m(\u001b[0m\u001b[0max\u001b[0m\u001b[0;34m,\u001b[0m \u001b[0;34m*\u001b[0m\u001b[0mmap\u001b[0m\u001b[0;34m(\u001b[0m\u001b[0msanitize_sequence\u001b[0m\u001b[0;34m,\u001b[0m \u001b[0margs\u001b[0m\u001b[0;34m)\u001b[0m\u001b[0;34m,\u001b[0m \u001b[0;34m**\u001b[0m\u001b[0mkwargs\u001b[0m\u001b[0;34m)\u001b[0m\u001b[0;34m\u001b[0m\u001b[0;34m\u001b[0m\u001b[0m\n\u001b[0m\u001b[1;32m   1443\u001b[0m \u001b[0;34m\u001b[0m\u001b[0m\n\u001b[1;32m   1444\u001b[0m         \u001b[0mbound\u001b[0m \u001b[0;34m=\u001b[0m \u001b[0mnew_sig\u001b[0m\u001b[0;34m.\u001b[0m\u001b[0mbind\u001b[0m\u001b[0;34m(\u001b[0m\u001b[0max\u001b[0m\u001b[0;34m,\u001b[0m \u001b[0;34m*\u001b[0m\u001b[0margs\u001b[0m\u001b[0;34m,\u001b[0m \u001b[0;34m**\u001b[0m\u001b[0mkwargs\u001b[0m\u001b[0;34m)\u001b[0m\u001b[0;34m\u001b[0m\u001b[0;34m\u001b[0m\u001b[0m\n",
            "\u001b[0;32m/usr/local/lib/python3.10/dist-packages/matplotlib/axes/_axes.py\u001b[0m in \u001b[0;36mimshow\u001b[0;34m(self, X, cmap, norm, aspect, interpolation, alpha, vmin, vmax, origin, extent, interpolation_stage, filternorm, filterrad, resample, url, **kwargs)\u001b[0m\n\u001b[1;32m   5663\u001b[0m                               **kwargs)\n\u001b[1;32m   5664\u001b[0m \u001b[0;34m\u001b[0m\u001b[0m\n\u001b[0;32m-> 5665\u001b[0;31m         \u001b[0mim\u001b[0m\u001b[0;34m.\u001b[0m\u001b[0mset_data\u001b[0m\u001b[0;34m(\u001b[0m\u001b[0mX\u001b[0m\u001b[0;34m)\u001b[0m\u001b[0;34m\u001b[0m\u001b[0;34m\u001b[0m\u001b[0m\n\u001b[0m\u001b[1;32m   5666\u001b[0m         \u001b[0mim\u001b[0m\u001b[0;34m.\u001b[0m\u001b[0mset_alpha\u001b[0m\u001b[0;34m(\u001b[0m\u001b[0malpha\u001b[0m\u001b[0;34m)\u001b[0m\u001b[0;34m\u001b[0m\u001b[0;34m\u001b[0m\u001b[0m\n\u001b[1;32m   5667\u001b[0m         \u001b[0;32mif\u001b[0m \u001b[0mim\u001b[0m\u001b[0;34m.\u001b[0m\u001b[0mget_clip_path\u001b[0m\u001b[0;34m(\u001b[0m\u001b[0;34m)\u001b[0m \u001b[0;32mis\u001b[0m \u001b[0;32mNone\u001b[0m\u001b[0;34m:\u001b[0m\u001b[0;34m\u001b[0m\u001b[0;34m\u001b[0m\u001b[0m\n",
            "\u001b[0;32m/usr/local/lib/python3.10/dist-packages/matplotlib/image.py\u001b[0m in \u001b[0;36mset_data\u001b[0;34m(self, A)\u001b[0m\n\u001b[1;32m    708\u001b[0m         if not (self._A.ndim == 2\n\u001b[1;32m    709\u001b[0m                 or self._A.ndim == 3 and self._A.shape[-1] in [3, 4]):\n\u001b[0;32m--> 710\u001b[0;31m             raise TypeError(\"Invalid shape {} for image data\"\n\u001b[0m\u001b[1;32m    711\u001b[0m                             .format(self._A.shape))\n\u001b[1;32m    712\u001b[0m \u001b[0;34m\u001b[0m\u001b[0m\n",
            "\u001b[0;31mTypeError\u001b[0m: Invalid shape (3, 32, 32) for image data"
          ]
        },
        {
          "output_type": "display_data",
          "data": {
            "text/plain": [
              "<Figure size 640x480 with 1 Axes>"
            ],
            "image/png": "[encoded data removed]"
          },
          "metadata": {}
        }
      ]
    },
    {
      "cell_type": "code",
      "source": [
        "plt.imshow(img_t.permute(1,2,0))"
      ],
      "metadata": {
        "colab": {
          "base_uri": "https://localhost:8080/",
          "height": 447
        },
        "id": "9ruCnCRqusL_",
        "outputId": "00f7917c-e78a-4c34-e1c2-c77f329dcb41"
      },
      "execution_count": null,
      "outputs": [
        {
          "output_type": "execute_result",
          "data": {
            "text/plain": [
              "<matplotlib.image.AxesImage at 0x7bb812b3fcd0>"
            ]
          },
          "metadata": {},
          "execution_count": 59
        },
        {
          "output_type": "display_data",
          "data": {
            "text/plain": [
              "<Figure size 640x480 with 1 Axes>"
            ],
            "image/png": "[encoded data removed]"
          },
          "metadata": {}
        }
      ]
    },
    {
      "cell_type": "markdown",
      "source": [
        "When you use imshow from Matplotlib to display an image, it expects the color channel to be the last dimension of the input image."
      ],
      "metadata": {
        "id": "NpstKL2PviBL"
      }
    },
    {
      "cell_type": "code",
      "source": [],
      "metadata": {
        "id": "r1JiBTKEuzHS"
      },
      "execution_count": null,
      "outputs": []
    },
    {
      "cell_type": "markdown",
      "source": [
        "#Normalize dataset"
      ],
      "metadata": {
        "id": "s3CF4upvyOfn"
      }
    },
    {
      "cell_type": "markdown",
      "source": [
        "When you use imshow from Matplotlib to display an image, it expects the color channel to be the last dimension of the input image."
      ],
      "metadata": {
        "id": "v7nUD7mfyiiQ"
      }
    },
    {
      "cell_type": "markdown",
      "source": [
        "When you use imshow from Matplotlib to display an image, it expects the color channel to be the last dimension of the input image."
      ],
      "metadata": {
        "id": "ratPaUG2ywpa"
      }
    },
    {
      "cell_type": "code",
      "source": [
        "imgs = torch.stack([img_t for img_t, _ in tensor_cifar10], dim=3)\n",
        "imgs"
      ],
      "metadata": {
        "colab": {
          "base_uri": "https://localhost:8080/"
        },
        "id": "dXLx6VrZyRCq",
        "outputId": "82c28835-a61b-4e9f-ea7a-48200797e29b"
      },
      "execution_count": null,
      "outputs": [
        {
          "output_type": "execute_result",
          "data": {
            "text/plain": [
              "tensor([[[[0.2314, 0.6039, 1.0000,  ..., 0.1373, 0.7412, 0.8980],\n",
              "          [0.1686, 0.4941, 0.9922,  ..., 0.1569, 0.7294, 0.9255],\n",
              "          [0.1961, 0.4118, 0.9922,  ..., 0.1647, 0.7255, 0.9176],\n",
              "          ...,\n",
              "          [0.6196, 0.3569, 0.9922,  ..., 0.3882, 0.6863, 0.8510],\n",
              "          [0.5961, 0.3412, 0.9922,  ..., 0.3098, 0.6745, 0.8667],\n",
              "          [0.5804, 0.3098, 0.9922,  ..., 0.3490, 0.6627, 0.8706]],\n",
              "\n",
              "         [[0.0627, 0.5490, 1.0000,  ..., 0.2235, 0.7608, 0.8706],\n",
              "          [0.0000, 0.5686, 1.0000,  ..., 0.1725, 0.7490, 0.9373],\n",
              "          [0.0706, 0.4902, 1.0000,  ..., 0.1961, 0.7451, 0.9137],\n",
              "          ...,\n",
              "          [0.4824, 0.3765, 1.0000,  ..., 0.6118, 0.6784, 0.8745],\n",
              "          [0.4667, 0.3020, 1.0000,  ..., 0.5529, 0.6706, 0.8902],\n",
              "          [0.4784, 0.2784, 1.0000,  ..., 0.4549, 0.6549, 0.8235]],\n",
              "\n",
              "         [[0.0980, 0.5490, 1.0000,  ..., 0.3843, 0.8157, 0.8353],\n",
              "          [0.0627, 0.5451, 0.9961,  ..., 0.2510, 0.8039, 0.9176],\n",
              "          [0.1922, 0.4510, 0.9961,  ..., 0.2706, 0.8000, 0.9059],\n",
              "          ...,\n",
              "          [0.4627, 0.3098, 0.9961,  ..., 0.7373, 0.6863, 0.8627],\n",
              "          [0.4706, 0.2667, 0.9961,  ..., 0.4667, 0.6745, 0.8627],\n",
              "          [0.4275, 0.2627, 0.9961,  ..., 0.2392, 0.6627, 0.7922]],\n",
              "\n",
              "         ...,\n",
              "\n",
              "         [[0.8157, 0.6863, 0.4431,  ..., 0.2863, 0.8118, 0.5882],\n",
              "          [0.7882, 0.6118, 0.4353,  ..., 0.2078, 0.7961, 0.5490],\n",
              "          [0.7765, 0.6039, 0.4118,  ..., 0.2118, 0.7961, 0.5176],\n",
              "          ...,\n",
              "          [0.6275, 0.1647, 0.2824,  ..., 0.0667, 0.5294, 0.8784],\n",
              "          [0.2196, 0.2392, 0.2824,  ..., 0.0824, 0.6353, 0.9020],\n",
              "          [0.2078, 0.3647, 0.2824,  ..., 0.1294, 0.6588, 0.9451]],\n",
              "\n",
              "         [[0.7059, 0.6471, 0.4353,  ..., 0.2392, 0.7765, 0.5373],\n",
              "          [0.6784, 0.6118, 0.4078,  ..., 0.2157, 0.7412, 0.5098],\n",
              "          [0.7294, 0.6235, 0.3882,  ..., 0.2235, 0.7059, 0.4902],\n",
              "          ...,\n",
              "          [0.7216, 0.4039, 0.2667,  ..., 0.0941, 0.6980, 0.7098],\n",
              "          [0.3804, 0.4824, 0.2745,  ..., 0.0667, 0.6863, 0.7922],\n",
              "          [0.3255, 0.5137, 0.3059,  ..., 0.0275, 0.6863, 0.8314]],\n",
              "\n",
              "         [[0.6941, 0.6392, 0.4157,  ..., 0.1725, 0.7765, 0.4784],\n",
              "          [0.6588, 0.6196, 0.3882,  ..., 0.1804, 0.7412, 0.4627],\n",
              "          [0.7020, 0.6392, 0.3725,  ..., 0.1922, 0.6980, 0.4706],\n",
              "          ...,\n",
              "          [0.8471, 0.5608, 0.3059,  ..., 0.1059, 0.7647, 0.7020],\n",
              "          [0.5922, 0.5608, 0.3098,  ..., 0.0824, 0.7686, 0.6431],\n",
              "          [0.4824, 0.5608, 0.3137,  ..., 0.0471, 0.7647, 0.6392]]],\n",
              "\n",
              "\n",
              "        [[[0.2431, 0.6941, 1.0000,  ..., 0.6980, 0.8275, 0.8980],\n",
              "          [0.1804, 0.5373, 0.9922,  ..., 0.6902, 0.8157, 0.9294],\n",
              "          [0.1882, 0.4078, 0.9922,  ..., 0.6902, 0.8118, 0.9255],\n",
              "          ...,\n",
              "          [0.5176, 0.3725, 0.9922,  ..., 0.6941, 0.7647, 0.8588],\n",
              "          [0.4902, 0.3529, 0.9922,  ..., 0.5765, 0.7608, 0.8745],\n",
              "          [0.4863, 0.3176, 0.9922,  ..., 0.5804, 0.7608, 0.8745]],\n",
              "\n",
              "         [[0.0784, 0.6275, 1.0000,  ..., 0.7137, 0.8235, 0.8667],\n",
              "          [0.0000, 0.6000, 1.0000,  ..., 0.7216, 0.8118, 0.9373],\n",
              "          [0.0314, 0.4902, 1.0000,  ..., 0.7176, 0.8078, 0.9176],\n",
              "          ...,\n",
              "          [0.3451, 0.3882, 1.0000,  ..., 0.7137, 0.7529, 0.8745],\n",
              "          [0.3255, 0.3137, 1.0000,  ..., 0.6941, 0.7490, 0.8941],\n",
              "          [0.3412, 0.2863, 1.0000,  ..., 0.5843, 0.7451, 0.8275]],\n",
              "\n",
              "         [[0.0941, 0.6078, 1.0000,  ..., 0.7725, 0.8588, 0.8078],\n",
              "          [0.0275, 0.5725, 0.9961,  ..., 0.7412, 0.8471, 0.9098],\n",
              "          [0.1059, 0.4510, 0.9961,  ..., 0.7529, 0.8431, 0.9137],\n",
              "          ...,\n",
              "          [0.3294, 0.3216, 0.9961,  ..., 0.7647, 0.7490, 0.8627],\n",
              "          [0.3294, 0.2745, 0.9961,  ..., 0.5294, 0.7451, 0.8588],\n",
              "          [0.2863, 0.2706, 0.9961,  ..., 0.3098, 0.7490, 0.7961]],\n",
              "\n",
              "         ...,\n",
              "\n",
              "         [[0.6667, 0.6549, 0.4706,  ..., 0.3098, 0.7804, 0.5608],\n",
              "          [0.6000, 0.6039, 0.4627,  ..., 0.2471, 0.7647, 0.5294],\n",
              "          [0.6314, 0.6275, 0.4392,  ..., 0.2667, 0.7686, 0.4980],\n",
              "          ...,\n",
              "          [0.5216, 0.1333, 0.3176,  ..., 0.1569, 0.5176, 0.8706],\n",
              "          [0.1216, 0.2078, 0.3137,  ..., 0.1412, 0.6196, 0.8941],\n",
              "          [0.1333, 0.3255, 0.3137,  ..., 0.1882, 0.6392, 0.9451]],\n",
              "\n",
              "         [[0.5451, 0.6039, 0.4627,  ..., 0.2667, 0.7451, 0.5176],\n",
              "          [0.4824, 0.5961, 0.4353,  ..., 0.2745, 0.7098, 0.4980],\n",
              "          [0.5647, 0.6314, 0.4157,  ..., 0.3098, 0.6745, 0.4745],\n",
              "          ...,\n",
              "          [0.5804, 0.3647, 0.2941,  ..., 0.1882, 0.6706, 0.7059],\n",
              "          [0.2431, 0.4471, 0.2980,  ..., 0.1373, 0.6627, 0.7882],\n",
              "          [0.2078, 0.4745, 0.3294,  ..., 0.0902, 0.6627, 0.8275]],\n",
              "\n",
              "         [[0.5647, 0.5804, 0.4431,  ..., 0.2196, 0.7412, 0.4667],\n",
              "          [0.5059, 0.5804, 0.4157,  ..., 0.2588, 0.7098, 0.4549],\n",
              "          [0.5569, 0.6118, 0.4000,  ..., 0.3020, 0.6667, 0.4549],\n",
              "          ...,\n",
              "          [0.7216, 0.5216, 0.3333,  ..., 0.2039, 0.7216, 0.6941],\n",
              "          [0.4627, 0.5255, 0.3333,  ..., 0.1686, 0.7412, 0.6431],\n",
              "          [0.3608, 0.5216, 0.3373,  ..., 0.1216, 0.7451, 0.6392]]],\n",
              "\n",
              "\n",
              "        [[[0.2471, 0.7333, 1.0000,  ..., 0.9216, 0.9412, 0.9373],\n",
              "          [0.1765, 0.5333, 0.9922,  ..., 0.9373, 0.9255, 0.9686],\n",
              "          [0.1686, 0.3725, 0.9922,  ..., 0.9451, 0.9216, 0.9686],\n",
              "          ...,\n",
              "          [0.4235, 0.2784, 0.9922,  ..., 0.8588, 0.8784, 0.9137],\n",
              "          [0.4000, 0.2784, 0.9922,  ..., 0.7725, 0.8706, 0.9176],\n",
              "          [0.4039, 0.2745, 0.9922,  ..., 0.7412, 0.8627, 0.9137]],\n",
              "\n",
              "         [[0.0784, 0.6627, 1.0000,  ..., 0.9176, 0.9373, 0.8980],\n",
              "          [0.0000, 0.6039, 1.0000,  ..., 0.9804, 0.9255, 0.9765],\n",
              "          [0.0000, 0.4627, 1.0000,  ..., 0.9412, 0.9216, 0.9647],\n",
              "          ...,\n",
              "          [0.2157, 0.3059, 1.0000,  ..., 0.7843, 0.8627, 0.9255],\n",
              "          [0.1961, 0.2431, 1.0000,  ..., 0.8078, 0.8549, 0.9333],\n",
              "          [0.2235, 0.2392, 1.0000,  ..., 0.6863, 0.8471, 0.8627]],\n",
              "\n",
              "         [[0.0824, 0.6431, 1.0000,  ..., 0.9294, 0.9569, 0.8275],\n",
              "          [0.0000, 0.5843, 0.9961,  ..., 0.9882, 0.9412, 0.9373],\n",
              "          [0.0314, 0.4392, 0.9961,  ..., 0.9608, 0.9373, 0.9569],\n",
              "          ...,\n",
              "          [0.1961, 0.2510, 0.9961,  ..., 0.8078, 0.8510, 0.9098],\n",
              "          [0.1961, 0.2157, 0.9961,  ..., 0.5765, 0.8471, 0.9098],\n",
              "          [0.1647, 0.2157, 0.9961,  ..., 0.3529, 0.8431, 0.8431]],\n",
              "\n",
              "         ...,\n",
              "\n",
              "         [[0.3765, 0.6510, 0.4392,  ..., 0.3020, 0.7098, 0.5294],\n",
              "          [0.1333, 0.6275, 0.4353,  ..., 0.2667, 0.6863, 0.4980],\n",
              "          [0.1020, 0.6667, 0.4157,  ..., 0.3137, 0.6784, 0.4706],\n",
              "          ...,\n",
              "          [0.2745, 0.1412, 0.3137,  ..., 0.2510, 0.4980, 0.8549],\n",
              "          [0.0275, 0.2235, 0.3098,  ..., 0.2000, 0.5882, 0.8824],\n",
              "          [0.0784, 0.3569, 0.3098,  ..., 0.1922, 0.5922, 0.9333]],\n",
              "\n",
              "         [[0.3765, 0.5020, 0.4314,  ..., 0.2941, 0.6667, 0.4941],\n",
              "          [0.1647, 0.5098, 0.4078,  ..., 0.3373, 0.6235, 0.4706],\n",
              "          [0.1176, 0.5569, 0.3843,  ..., 0.4039, 0.5765, 0.4510],\n",
              "          ...,\n",
              "          [0.3686, 0.3765, 0.2863,  ..., 0.2824, 0.6275, 0.6980],\n",
              "          [0.1333, 0.4706, 0.2941,  ..., 0.2078, 0.6118, 0.7765],\n",
              "          [0.1333, 0.5137, 0.3216,  ..., 0.1255, 0.6039, 0.8118]],\n",
              "\n",
              "         [[0.4549, 0.4706, 0.4118,  ..., 0.2863, 0.6784, 0.4471],\n",
              "          [0.3686, 0.4784, 0.3843,  ..., 0.3451, 0.6353, 0.4314],\n",
              "          [0.3412, 0.5216, 0.3686,  ..., 0.4118, 0.5843, 0.4353],\n",
              "          ...,\n",
              "          [0.5490, 0.5451, 0.3255,  ..., 0.3020, 0.6627, 0.6784],\n",
              "          [0.3294, 0.5569, 0.3255,  ..., 0.2588, 0.6706, 0.6353],\n",
              "          [0.2824, 0.5647, 0.3294,  ..., 0.1961, 0.6706, 0.6314]]]])"
            ]
          },
          "metadata": {},
          "execution_count": 60
        }
      ]
    },
    {
      "cell_type": "code",
      "source": [
        "imgs.shape"
      ],
      "metadata": {
        "colab": {
          "base_uri": "https://localhost:8080/"
        },
        "id": "PQiP9yLzzWzZ",
        "outputId": "93e6e364-827a-4749-ee24-d817f1114ed4"
      },
      "execution_count": null,
      "outputs": [
        {
          "output_type": "execute_result",
          "data": {
            "text/plain": [
              "torch.Size([3, 32, 32, 50000])"
            ]
          },
          "metadata": {},
          "execution_count": 61
        }
      ]
    },
    {
      "cell_type": "code",
      "source": [
        "imgs.view(3,-1).mean(dim=1) #calculate mean"
      ],
      "metadata": {
        "colab": {
          "base_uri": "https://localhost:8080/"
        },
        "id": "72Rk5rBj1OJd",
        "outputId": "0adf304b-835e-458e-f9f0-38ed69ad071e"
      },
      "execution_count": null,
      "outputs": [
        {
          "output_type": "execute_result",
          "data": {
            "text/plain": [
              "tensor([0.4914, 0.4822, 0.4465])"
            ]
          },
          "metadata": {},
          "execution_count": 62
        }
      ]
    },
    {
      "cell_type": "code",
      "source": [
        "imgs.view(3,-1).std(dim=1) #calculate standard deviation"
      ],
      "metadata": {
        "colab": {
          "base_uri": "https://localhost:8080/"
        },
        "id": "G43i9nVe1VqY",
        "outputId": "7f8b5965-f096-4000-9ca0-46df29e8a717"
      },
      "execution_count": null,
      "outputs": [
        {
          "output_type": "execute_result",
          "data": {
            "text/plain": [
              "tensor([0.2470, 0.2435, 0.2616])"
            ]
          },
          "metadata": {},
          "execution_count": 63
        }
      ]
    },
    {
      "cell_type": "code",
      "source": [],
      "metadata": {
        "id": "24x5ZmIU1aTc"
      },
      "execution_count": null,
      "outputs": []
    }
  ]
}