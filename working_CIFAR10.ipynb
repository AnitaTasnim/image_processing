{
  "nbformat": 4,
  "nbformat_minor": 0,
  "metadata": {
    "colab": {
      "provenance": [],
      "authorship_tag": "ABX9TyM0XP7zue+mEg3PLo9IsqpM",
      "include_colab_link": true
    },
    "kernelspec": {
      "name": "python3",
      "display_name": "Python 3"
    },
    "language_info": {
      "name": "python"
    }
  },
  "cells": [
    {
      "cell_type": "markdown",
      "metadata": {
        "id": "view-in-github",
        "colab_type": "text"
      },
      "source": [
        "<a href=\"https://colab.research.google.com/github/AnitaTasnim/image_processing/blob/main/working_CIFAR10.ipynb\" target=\"_parent\"><img src=\"https://colab.research.google.com/assets/colab-badge.svg\" alt=\"Open In Colab\"/></a>"
      ]
    },
    {
      "cell_type": "markdown",
      "source": [
        "cifar10 consists of 60000 32*32 RGB images,\n",
        "labeled  with an integer corresponding to 1 to 10 class\n",
        "\n",
        " classes: airplane (0), automobile (1), bird (2), cat (3),\n",
        "deer (4), dog (5), frog (6), horse (7), ship (8), and truck (9)."
      ],
      "metadata": {
        "id": "YGgjX6N6UBpW"
      }
    },
    {
      "cell_type": "code",
      "execution_count": 1,
      "metadata": {
        "id": "oDCm22wrT78q"
      },
      "outputs": [],
      "source": [
        "import torch\n",
        "import matplotlib.pyplot as plt"
      ]
    },
    {
      "cell_type": "code",
      "source": [
        "!git clone https://github.com/deep-learning-with-pytorch/dlwpt-code"
      ],
      "metadata": {
        "colab": {
          "base_uri": "https://localhost:8080/"
        },
        "id": "wPzGYTB7cpth",
        "outputId": "175ae16b-1458-48e5-ab66-dce9b2314ffb"
      },
      "execution_count": 2,
      "outputs": [
        {
          "output_type": "stream",
          "name": "stdout",
          "text": [
            "Cloning into 'dlwpt-code'...\n",
            "remote: Enumerating objects: 703, done.\u001b[K\n",
            "remote: Counting objects: 100% (149/149), done.\u001b[K\n",
            "remote: Compressing objects: 100% (62/62), done.\u001b[K\n",
            "remote: Total 703 (delta 106), reused 87 (delta 87), pack-reused 554\u001b[K\n",
            "Receiving objects: 100% (703/703), 175.17 MiB | 15.31 MiB/s, done.\n",
            "Resolving deltas: 100% (318/318), done.\n",
            "Updating files: 100% (228/228), done.\n"
          ]
        }
      ]
    },
    {
      "cell_type": "markdown",
      "source": [
        "#load dataset"
      ],
      "metadata": {
        "id": "r4eU-6sjboOi"
      }
    },
    {
      "cell_type": "code",
      "source": [
        "from torchvision import datasets\n",
        "data_path = '/content/dataset_cifar10'"
      ],
      "metadata": {
        "id": "nAFQDseRbtlC"
      },
      "execution_count": 3,
      "outputs": []
    },
    {
      "cell_type": "code",
      "source": [
        "cifar10 = datasets.CIFAR10(data_path, train=True, download=True)\n"
      ],
      "metadata": {
        "colab": {
          "base_uri": "https://localhost:8080/"
        },
        "id": "kZkNx5n8d1rd",
        "outputId": "6d62d9ce-74a9-4597-caf2-6169f6f85a2b"
      },
      "execution_count": 4,
      "outputs": [
        {
          "output_type": "stream",
          "name": "stdout",
          "text": [
            "Downloading https://www.cs.toronto.edu/~kriz/cifar-10-python.tar.gz to /content/dataset_cifar10/cifar-10-python.tar.gz\n"
          ]
        },
        {
          "output_type": "stream",
          "name": "stderr",
          "text": [
            "100%|██████████| 170498071/170498071 [00:04<00:00, 42487337.86it/s]\n"
          ]
        },
        {
          "output_type": "stream",
          "name": "stdout",
          "text": [
            "Extracting /content/dataset_cifar10/cifar-10-python.tar.gz to /content/dataset_cifar10\n"
          ]
        }
      ]
    },
    {
      "cell_type": "code",
      "source": [
        "cifar10_val = datasets.CIFAR10(data_path,train=False, download = True)"
      ],
      "metadata": {
        "colab": {
          "base_uri": "https://localhost:8080/"
        },
        "id": "4NN0LMcUe4Ya",
        "outputId": "83d76e80-b321-4109-bdfa-28969018fef4"
      },
      "execution_count": 5,
      "outputs": [
        {
          "output_type": "stream",
          "name": "stdout",
          "text": [
            "Files already downloaded and verified\n"
          ]
        }
      ]
    },
    {
      "cell_type": "code",
      "source": [
        "type(cifar10)"
      ],
      "metadata": {
        "colab": {
          "base_uri": "https://localhost:8080/"
        },
        "id": "NAQTP9IlesDa",
        "outputId": "44e2d89d-ad69-4e6f-d72b-7f5c0e07ef48"
      },
      "execution_count": 6,
      "outputs": [
        {
          "output_type": "execute_result",
          "data": {
            "text/plain": [
              "torchvision.datasets.cifar.CIFAR10"
            ]
          },
          "metadata": {},
          "execution_count": 6
        }
      ]
    },
    {
      "cell_type": "code",
      "source": [
        "len(cifar10)"
      ],
      "metadata": {
        "colab": {
          "base_uri": "https://localhost:8080/"
        },
        "id": "Gr9zuqSuf6NI",
        "outputId": "ae7468a8-6326-4da2-9af5-8f4e5de4983f"
      },
      "execution_count": 7,
      "outputs": [
        {
          "output_type": "execute_result",
          "data": {
            "text/plain": [
              "50000"
            ]
          },
          "metadata": {},
          "execution_count": 7
        }
      ]
    },
    {
      "cell_type": "code",
      "source": [
        "len(cifar10_val)"
      ],
      "metadata": {
        "colab": {
          "base_uri": "https://localhost:8080/"
        },
        "id": "EUWO_KZ0f8yO",
        "outputId": "66421d02-6cb9-4171-d49c-f58664129216"
      },
      "execution_count": 8,
      "outputs": [
        {
          "output_type": "execute_result",
          "data": {
            "text/plain": [
              "10000"
            ]
          },
          "metadata": {},
          "execution_count": 8
        }
      ]
    },
    {
      "cell_type": "code",
      "source": [
        "cifar10"
      ],
      "metadata": {
        "colab": {
          "base_uri": "https://localhost:8080/"
        },
        "id": "2vyCAFJSf80u",
        "outputId": "76cd1c65-5db6-4c05-92b3-ee6eca0d4971"
      },
      "execution_count": 9,
      "outputs": [
        {
          "output_type": "execute_result",
          "data": {
            "text/plain": [
              "Dataset CIFAR10\n",
              "    Number of datapoints: 50000\n",
              "    Root location: /content/dataset_cifar10\n",
              "    Split: Train"
            ]
          },
          "metadata": {},
          "execution_count": 9
        }
      ]
    },
    {
      "cell_type": "code",
      "source": [
        "cifar10_val"
      ],
      "metadata": {
        "colab": {
          "base_uri": "https://localhost:8080/"
        },
        "id": "IwfOAdWwgTcw",
        "outputId": "7cdb5b0e-d0af-49c2-fa3e-4417bc0de36d"
      },
      "execution_count": 10,
      "outputs": [
        {
          "output_type": "execute_result",
          "data": {
            "text/plain": [
              "Dataset CIFAR10\n",
              "    Number of datapoints: 10000\n",
              "    Root location: /content/dataset_cifar10\n",
              "    Split: Test"
            ]
          },
          "metadata": {},
          "execution_count": 10
        }
      ]
    },
    {
      "cell_type": "code",
      "source": [
        "cifar10[0]\n"
      ],
      "metadata": {
        "colab": {
          "base_uri": "https://localhost:8080/"
        },
        "id": "zmiafrndgTe_",
        "outputId": "ae698752-2a86-4e3f-f7c4-dd43cbe83735"
      },
      "execution_count": 11,
      "outputs": [
        {
          "output_type": "execute_result",
          "data": {
            "text/plain": [
              "(<PIL.Image.Image image mode=RGB size=32x32>, 6)"
            ]
          },
          "metadata": {},
          "execution_count": 11
        }
      ]
    },
    {
      "cell_type": "markdown",
      "source": [
        "visualize dataset"
      ],
      "metadata": {
        "id": "uo-Du-oKUBiK"
      }
    },
    {
      "cell_type": "code",
      "source": [
        "img, label = cifar10[99]\n",
        "img, label"
      ],
      "metadata": {
        "colab": {
          "base_uri": "https://localhost:8080/"
        },
        "id": "VDILp1AwhBX_",
        "outputId": "a697fbfe-e827-4751-cd74-384ca1248f3c"
      },
      "execution_count": 12,
      "outputs": [
        {
          "output_type": "execute_result",
          "data": {
            "text/plain": [
              "(<PIL.Image.Image image mode=RGB size=32x32>, 1)"
            ]
          },
          "metadata": {},
          "execution_count": 12
        }
      ]
    },
    {
      "cell_type": "code",
      "source": [
        "img, label = cifar10[99]\n",
        "img, label"
      ],
      "metadata": {
        "colab": {
          "base_uri": "https://localhost:8080/"
        },
        "id": "SXKaK7cZhhz9",
        "outputId": "3332b3f0-7d51-4b66-88a7-5c1f230d0d03"
      },
      "execution_count": 13,
      "outputs": [
        {
          "output_type": "execute_result",
          "data": {
            "text/plain": [
              "(<PIL.Image.Image image mode=RGB size=32x32>, 1)"
            ]
          },
          "metadata": {},
          "execution_count": 13
        }
      ]
    },
    {
      "cell_type": "code",
      "source": [
        "plt.imshow(img)"
      ],
      "metadata": {
        "colab": {
          "base_uri": "https://localhost:8080/",
          "height": 447
        },
        "id": "x-xH0rFWgzrE",
        "outputId": "93aee5c1-2292-41c2-d550-e39299024981"
      },
      "execution_count": 14,
      "outputs": [
        {
          "output_type": "execute_result",
          "data": {
            "text/plain": [
              "<matplotlib.image.AxesImage at 0x7ee8dbd3d120>"
            ]
          },
          "metadata": {},
          "execution_count": 14
        },
        {
          "output_type": "display_data",
          "data": {
            "text/plain": [
              "<Figure size 640x480 with 1 Axes>"
            ],
            "image/png": "[encoded data removed]"
          },
          "metadata": {}
        }
      ]
    },
    {
      "cell_type": "markdown",
      "source": [
        "Okay, its a red car, but we need this PIL image to PyTorch tensor before we can do anything with it"
      ],
      "metadata": {
        "id": "DpKa1vjaiJvJ"
      }
    },
    {
      "cell_type": "markdown",
      "source": [
        "so, we need torchvision.transforms"
      ],
      "metadata": {
        "id": "alBSo8SbiWzc"
      }
    },
    {
      "cell_type": "code",
      "source": [
        "from torchvision import transforms\n",
        "dir(transforms)"
      ],
      "metadata": {
        "colab": {
          "base_uri": "https://localhost:8080/"
        },
        "id": "UsJgJyRmiWQG",
        "outputId": "57cbb9f5-e4f5-452c-ee28-222b4438ddff"
      },
      "execution_count": 15,
      "outputs": [
        {
          "output_type": "execute_result",
          "data": {
            "text/plain": [
              "['AugMix',\n",
              " 'AutoAugment',\n",
              " 'AutoAugmentPolicy',\n",
              " 'CenterCrop',\n",
              " 'ColorJitter',\n",
              " 'Compose',\n",
              " 'ConvertImageDtype',\n",
              " 'ElasticTransform',\n",
              " 'FiveCrop',\n",
              " 'GaussianBlur',\n",
              " 'Grayscale',\n",
              " 'InterpolationMode',\n",
              " 'Lambda',\n",
              " 'LinearTransformation',\n",
              " 'Normalize',\n",
              " 'PILToTensor',\n",
              " 'Pad',\n",
              " 'RandAugment',\n",
              " 'RandomAdjustSharpness',\n",
              " 'RandomAffine',\n",
              " 'RandomApply',\n",
              " 'RandomAutocontrast',\n",
              " 'RandomChoice',\n",
              " 'RandomCrop',\n",
              " 'RandomEqualize',\n",
              " 'RandomErasing',\n",
              " 'RandomGrayscale',\n",
              " 'RandomHorizontalFlip',\n",
              " 'RandomInvert',\n",
              " 'RandomOrder',\n",
              " 'RandomPerspective',\n",
              " 'RandomPosterize',\n",
              " 'RandomResizedCrop',\n",
              " 'RandomRotation',\n",
              " 'RandomSolarize',\n",
              " 'RandomVerticalFlip',\n",
              " 'Resize',\n",
              " 'TenCrop',\n",
              " 'ToPILImage',\n",
              " 'ToTensor',\n",
              " 'TrivialAugmentWide',\n",
              " '__builtins__',\n",
              " '__cached__',\n",
              " '__doc__',\n",
              " '__file__',\n",
              " '__loader__',\n",
              " '__name__',\n",
              " '__package__',\n",
              " '__path__',\n",
              " '__spec__',\n",
              " '_functional_pil',\n",
              " '_functional_tensor',\n",
              " '_presets',\n",
              " 'autoaugment',\n",
              " 'functional',\n",
              " 'transforms']"
            ]
          },
          "metadata": {},
          "execution_count": 15
        }
      ]
    },
    {
      "cell_type": "markdown",
      "source": [
        "Among those transforms, we can spot ToTensor, which turns NumPy arrays and PIL\n",
        "images to tensors. It also takes care to lay out the dimensions of the output tensor as\n",
        "C × H × W (channel, height, width;"
      ],
      "metadata": {
        "id": "_OiE3pMskj1i"
      }
    },
    {
      "cell_type": "code",
      "source": [
        "to_tensor = transforms.ToTensor()\n",
        "img_t = to_tensor(img)\n",
        "img_t.shape #channel, height, width"
      ],
      "metadata": {
        "colab": {
          "base_uri": "https://localhost:8080/"
        },
        "id": "ICw-tedrjYTq",
        "outputId": "9b511215-a75e-4557-8bb8-7e792224d503"
      },
      "execution_count": 16,
      "outputs": [
        {
          "output_type": "execute_result",
          "data": {
            "text/plain": [
              "torch.Size([3, 32, 32])"
            ]
          },
          "metadata": {},
          "execution_count": 16
        }
      ]
    },
    {
      "cell_type": "code",
      "source": [
        "img_t"
      ],
      "metadata": {
        "colab": {
          "base_uri": "https://localhost:8080/"
        },
        "id": "Vo0Ej41ekyX7",
        "outputId": "befcfd3c-6ceb-4413-bb8b-d66dc34e2f3c"
      },
      "execution_count": 17,
      "outputs": [
        {
          "output_type": "execute_result",
          "data": {
            "text/plain": [
              "tensor([[[0.2431, 0.1961, 0.1804,  ..., 0.6549, 0.7176, 0.5373],\n",
              "         [0.2471, 0.2157, 0.2039,  ..., 0.6392, 0.6706, 0.5686],\n",
              "         [0.2275, 0.2510, 0.2196,  ..., 0.6000, 0.5882, 0.4824],\n",
              "         ...,\n",
              "         [0.6745, 0.5608, 0.5098,  ..., 0.3686, 0.5529, 0.5451],\n",
              "         [0.7176, 0.5882, 0.3137,  ..., 0.3176, 0.5294, 0.5608],\n",
              "         [0.8196, 0.7137, 0.5451,  ..., 0.2314, 0.5098, 0.6627]],\n",
              "\n",
              "        [[0.2510, 0.1961, 0.1725,  ..., 0.6745, 0.7216, 0.5333],\n",
              "         [0.2549, 0.2078, 0.1961,  ..., 0.6627, 0.6824, 0.5725],\n",
              "         [0.2431, 0.2588, 0.2353,  ..., 0.6078, 0.6039, 0.5020],\n",
              "         ...,\n",
              "         [0.5294, 0.4314, 0.2196,  ..., 0.2941, 0.4235, 0.4118],\n",
              "         [0.5725, 0.4627, 0.2510,  ..., 0.2824, 0.4627, 0.4902],\n",
              "         [0.6824, 0.5922, 0.4275,  ..., 0.2118, 0.4667, 0.6118]],\n",
              "\n",
              "        [[0.1725, 0.1020, 0.0745,  ..., 0.2706, 0.2980, 0.2824],\n",
              "         [0.1451, 0.1020, 0.1059,  ..., 0.2392, 0.2941, 0.3020],\n",
              "         [0.1412, 0.1451, 0.1451,  ..., 0.2431, 0.2510, 0.2235],\n",
              "         ...,\n",
              "         [0.3882, 0.3294, 0.1647,  ..., 0.2196, 0.3373, 0.3176],\n",
              "         [0.4588, 0.3725, 0.1725,  ..., 0.2353, 0.3843, 0.4314],\n",
              "         [0.5647, 0.4824, 0.3255,  ..., 0.1843, 0.4353, 0.6275]]])"
            ]
          },
          "metadata": {},
          "execution_count": 17
        }
      ]
    },
    {
      "cell_type": "markdown",
      "source": [
        "we can pass the transform directly as an argument to dataset\n",
        ".CIFAR10:"
      ],
      "metadata": {
        "id": "FRG160r8n6W-"
      }
    },
    {
      "cell_type": "code",
      "source": [
        "tensor_cifar10 = datasets.CIFAR10(data_path, train=True, download=False, transform=transforms.ToTensor())"
      ],
      "metadata": {
        "id": "mMk6z8oany8f"
      },
      "execution_count": 18,
      "outputs": []
    },
    {
      "cell_type": "code",
      "source": [
        "tensor_cifar10"
      ],
      "metadata": {
        "colab": {
          "base_uri": "https://localhost:8080/"
        },
        "id": "WQBkgOYeqRcZ",
        "outputId": "cc5a6099-5806-4972-bd02-5ada6e60e262"
      },
      "execution_count": 19,
      "outputs": [
        {
          "output_type": "execute_result",
          "data": {
            "text/plain": [
              "Dataset CIFAR10\n",
              "    Number of datapoints: 50000\n",
              "    Root location: /content/dataset_cifar10\n",
              "    Split: Train\n",
              "    StandardTransform\n",
              "Transform: ToTensor()"
            ]
          },
          "metadata": {},
          "execution_count": 19
        }
      ]
    },
    {
      "cell_type": "code",
      "source": [
        "tensor_cifar10[99]"
      ],
      "metadata": {
        "colab": {
          "base_uri": "https://localhost:8080/"
        },
        "id": "A44n9cDAqUR-",
        "outputId": "c87f2e1b-2733-4368-82d6-88b0d92d0116"
      },
      "execution_count": 20,
      "outputs": [
        {
          "output_type": "execute_result",
          "data": {
            "text/plain": [
              "(tensor([[[0.2431, 0.1961, 0.1804,  ..., 0.6549, 0.7176, 0.5373],\n",
              "          [0.2471, 0.2157, 0.2039,  ..., 0.6392, 0.6706, 0.5686],\n",
              "          [0.2275, 0.2510, 0.2196,  ..., 0.6000, 0.5882, 0.4824],\n",
              "          ...,\n",
              "          [0.6745, 0.5608, 0.5098,  ..., 0.3686, 0.5529, 0.5451],\n",
              "          [0.7176, 0.5882, 0.3137,  ..., 0.3176, 0.5294, 0.5608],\n",
              "          [0.8196, 0.7137, 0.5451,  ..., 0.2314, 0.5098, 0.6627]],\n",
              " \n",
              "         [[0.2510, 0.1961, 0.1725,  ..., 0.6745, 0.7216, 0.5333],\n",
              "          [0.2549, 0.2078, 0.1961,  ..., 0.6627, 0.6824, 0.5725],\n",
              "          [0.2431, 0.2588, 0.2353,  ..., 0.6078, 0.6039, 0.5020],\n",
              "          ...,\n",
              "          [0.5294, 0.4314, 0.2196,  ..., 0.2941, 0.4235, 0.4118],\n",
              "          [0.5725, 0.4627, 0.2510,  ..., 0.2824, 0.4627, 0.4902],\n",
              "          [0.6824, 0.5922, 0.4275,  ..., 0.2118, 0.4667, 0.6118]],\n",
              " \n",
              "         [[0.1725, 0.1020, 0.0745,  ..., 0.2706, 0.2980, 0.2824],\n",
              "          [0.1451, 0.1020, 0.1059,  ..., 0.2392, 0.2941, 0.3020],\n",
              "          [0.1412, 0.1451, 0.1451,  ..., 0.2431, 0.2510, 0.2235],\n",
              "          ...,\n",
              "          [0.3882, 0.3294, 0.1647,  ..., 0.2196, 0.3373, 0.3176],\n",
              "          [0.4588, 0.3725, 0.1725,  ..., 0.2353, 0.3843, 0.4314],\n",
              "          [0.5647, 0.4824, 0.3255,  ..., 0.1843, 0.4353, 0.6275]]]),\n",
              " 1)"
            ]
          },
          "metadata": {},
          "execution_count": 20
        }
      ]
    },
    {
      "cell_type": "markdown",
      "source": [
        "In the tuple (tensor([[[...]]]), 1), the second value, which is 1, represents the label or class of the image."
      ],
      "metadata": {
        "id": "ZxnRdAd8qnyl"
      }
    },
    {
      "cell_type": "code",
      "source": [
        "img_tensor,_ = tensor_cifar10[99] #, the underscore _ is used as a convention to discard the second value returned by the tensor_cifar10[99] expression."
      ],
      "metadata": {
        "id": "FziO5RPPoREZ"
      },
      "execution_count": 21,
      "outputs": []
    },
    {
      "cell_type": "code",
      "source": [
        "img_tensor"
      ],
      "metadata": {
        "colab": {
          "base_uri": "https://localhost:8080/"
        },
        "id": "P3x47xQ1os2Y",
        "outputId": "61fa3605-9a1b-47c1-ff73-de59dcb0f52e"
      },
      "execution_count": 22,
      "outputs": [
        {
          "output_type": "execute_result",
          "data": {
            "text/plain": [
              "tensor([[[0.2431, 0.1961, 0.1804,  ..., 0.6549, 0.7176, 0.5373],\n",
              "         [0.2471, 0.2157, 0.2039,  ..., 0.6392, 0.6706, 0.5686],\n",
              "         [0.2275, 0.2510, 0.2196,  ..., 0.6000, 0.5882, 0.4824],\n",
              "         ...,\n",
              "         [0.6745, 0.5608, 0.5098,  ..., 0.3686, 0.5529, 0.5451],\n",
              "         [0.7176, 0.5882, 0.3137,  ..., 0.3176, 0.5294, 0.5608],\n",
              "         [0.8196, 0.7137, 0.5451,  ..., 0.2314, 0.5098, 0.6627]],\n",
              "\n",
              "        [[0.2510, 0.1961, 0.1725,  ..., 0.6745, 0.7216, 0.5333],\n",
              "         [0.2549, 0.2078, 0.1961,  ..., 0.6627, 0.6824, 0.5725],\n",
              "         [0.2431, 0.2588, 0.2353,  ..., 0.6078, 0.6039, 0.5020],\n",
              "         ...,\n",
              "         [0.5294, 0.4314, 0.2196,  ..., 0.2941, 0.4235, 0.4118],\n",
              "         [0.5725, 0.4627, 0.2510,  ..., 0.2824, 0.4627, 0.4902],\n",
              "         [0.6824, 0.5922, 0.4275,  ..., 0.2118, 0.4667, 0.6118]],\n",
              "\n",
              "        [[0.1725, 0.1020, 0.0745,  ..., 0.2706, 0.2980, 0.2824],\n",
              "         [0.1451, 0.1020, 0.1059,  ..., 0.2392, 0.2941, 0.3020],\n",
              "         [0.1412, 0.1451, 0.1451,  ..., 0.2431, 0.2510, 0.2235],\n",
              "         ...,\n",
              "         [0.3882, 0.3294, 0.1647,  ..., 0.2196, 0.3373, 0.3176],\n",
              "         [0.4588, 0.3725, 0.1725,  ..., 0.2353, 0.3843, 0.4314],\n",
              "         [0.5647, 0.4824, 0.3255,  ..., 0.1843, 0.4353, 0.6275]]])"
            ]
          },
          "metadata": {},
          "execution_count": 22
        }
      ]
    },
    {
      "cell_type": "code",
      "source": [
        "img_tensor.shape"
      ],
      "metadata": {
        "colab": {
          "base_uri": "https://localhost:8080/"
        },
        "id": "AFVJ_AVQpQtk",
        "outputId": "93499749-0ca6-4ced-8c4c-2a88e1d3248c"
      },
      "execution_count": 23,
      "outputs": [
        {
          "output_type": "execute_result",
          "data": {
            "text/plain": [
              "torch.Size([3, 32, 32])"
            ]
          },
          "metadata": {},
          "execution_count": 23
        }
      ]
    },
    {
      "cell_type": "code",
      "source": [
        "img_tensor.dtype"
      ],
      "metadata": {
        "colab": {
          "base_uri": "https://localhost:8080/"
        },
        "id": "WQntsAg6pcYz",
        "outputId": "826a50f5-1c8f-4385-8e67-976f6ac3db8d"
      },
      "execution_count": 24,
      "outputs": [
        {
          "output_type": "execute_result",
          "data": {
            "text/plain": [
              "torch.float32"
            ]
          },
          "metadata": {},
          "execution_count": 24
        }
      ]
    },
    {
      "cell_type": "markdown",
      "source": [
        "ToTensor Transformation: When you apply the transforms.ToTensor() transformation, it converts the image into a PyTorch tensor. During this conversion, it scales down the pixel values. Instead of using integers in the range 0-255, it represents each pixel value as a 32-bit floating-point number between 0.0 and 1.0.\n",
        "\n",
        "\n",
        "1. For example, a pixel value of 128 in the original image would become approximately 0.5 in the PyTorch tensor, as (128 / 255) ≈ 0.5.\n"
      ],
      "metadata": {
        "id": "2r3LFY6KsVqs"
      }
    },
    {
      "cell_type": "code",
      "source": [
        "img_t.min()"
      ],
      "metadata": {
        "colab": {
          "base_uri": "https://localhost:8080/"
        },
        "id": "xdc4dat4pdYA",
        "outputId": "a8041553-e74b-4aa8-b4b2-2a97877d5667"
      },
      "execution_count": 25,
      "outputs": [
        {
          "output_type": "execute_result",
          "data": {
            "text/plain": [
              "tensor(0.)"
            ]
          },
          "metadata": {},
          "execution_count": 25
        }
      ]
    },
    {
      "cell_type": "code",
      "source": [
        "img_t.max()"
      ],
      "metadata": {
        "colab": {
          "base_uri": "https://localhost:8080/"
        },
        "id": "5qL8R3R6t_49",
        "outputId": "8ab310c1-7114-471f-9da1-dffe277fc48c"
      },
      "execution_count": 26,
      "outputs": [
        {
          "output_type": "execute_result",
          "data": {
            "text/plain": [
              "tensor(1.)"
            ]
          },
          "metadata": {},
          "execution_count": 26
        }
      ]
    },
    {
      "cell_type": "markdown",
      "source": [
        "Pytorch expect C H W order in image,\n",
        "\n",
        "but matplotlib expects H W C order in image\n",
        "\n",
        "\n",
        "so we need to permute the order"
      ],
      "metadata": {
        "id": "77_GIJh1uOvG"
      }
    },
    {
      "cell_type": "code",
      "source": [
        "plt.imshow(img_t)"
      ],
      "metadata": {
        "colab": {
          "base_uri": "https://localhost:8080/",
          "height": 739
        },
        "id": "vyIUtKF3uB2a",
        "outputId": "5b576a52-8ae8-4c66-db8e-1854ea3c8455"
      },
      "execution_count": 27,
      "outputs": [
        {
          "output_type": "error",
          "ename": "TypeError",
          "evalue": "ignored",
          "traceback": [
            "\u001b[0;31m---------------------------------------------------------------------------\u001b[0m",
            "\u001b[0;31mTypeError\u001b[0m                                 Traceback (most recent call last)",
            "\u001b[0;32m<ipython-input-27-75acc96f635c>\u001b[0m in \u001b[0;36m<cell line: 1>\u001b[0;34m()\u001b[0m\n\u001b[0;32m----> 1\u001b[0;31m \u001b[0mplt\u001b[0m\u001b[0;34m.\u001b[0m\u001b[0mimshow\u001b[0m\u001b[0;34m(\u001b[0m\u001b[0mimg_t\u001b[0m\u001b[0;34m)\u001b[0m\u001b[0;34m\u001b[0m\u001b[0;34m\u001b[0m\u001b[0m\n\u001b[0m",
            "\u001b[0;32m/usr/local/lib/python3.10/dist-packages/matplotlib/pyplot.py\u001b[0m in \u001b[0;36mimshow\u001b[0;34m(X, cmap, norm, aspect, interpolation, alpha, vmin, vmax, origin, extent, interpolation_stage, filternorm, filterrad, resample, url, data, **kwargs)\u001b[0m\n\u001b[1;32m   2693\u001b[0m         \u001b[0minterpolation_stage\u001b[0m\u001b[0;34m=\u001b[0m\u001b[0;32mNone\u001b[0m\u001b[0;34m,\u001b[0m \u001b[0mfilternorm\u001b[0m\u001b[0;34m=\u001b[0m\u001b[0;32mTrue\u001b[0m\u001b[0;34m,\u001b[0m \u001b[0mfilterrad\u001b[0m\u001b[0;34m=\u001b[0m\u001b[0;36m4.0\u001b[0m\u001b[0;34m,\u001b[0m\u001b[0;34m\u001b[0m\u001b[0;34m\u001b[0m\u001b[0m\n\u001b[1;32m   2694\u001b[0m         resample=None, url=None, data=None, **kwargs):\n\u001b[0;32m-> 2695\u001b[0;31m     __ret = gca().imshow(\n\u001b[0m\u001b[1;32m   2696\u001b[0m         \u001b[0mX\u001b[0m\u001b[0;34m,\u001b[0m \u001b[0mcmap\u001b[0m\u001b[0;34m=\u001b[0m\u001b[0mcmap\u001b[0m\u001b[0;34m,\u001b[0m \u001b[0mnorm\u001b[0m\u001b[0;34m=\u001b[0m\u001b[0mnorm\u001b[0m\u001b[0;34m,\u001b[0m \u001b[0maspect\u001b[0m\u001b[0;34m=\u001b[0m\u001b[0maspect\u001b[0m\u001b[0;34m,\u001b[0m\u001b[0;34m\u001b[0m\u001b[0;34m\u001b[0m\u001b[0m\n\u001b[1;32m   2697\u001b[0m         \u001b[0minterpolation\u001b[0m\u001b[0;34m=\u001b[0m\u001b[0minterpolation\u001b[0m\u001b[0;34m,\u001b[0m \u001b[0malpha\u001b[0m\u001b[0;34m=\u001b[0m\u001b[0malpha\u001b[0m\u001b[0;34m,\u001b[0m \u001b[0mvmin\u001b[0m\u001b[0;34m=\u001b[0m\u001b[0mvmin\u001b[0m\u001b[0;34m,\u001b[0m\u001b[0;34m\u001b[0m\u001b[0;34m\u001b[0m\u001b[0m\n",
            "\u001b[0;32m/usr/local/lib/python3.10/dist-packages/matplotlib/__init__.py\u001b[0m in \u001b[0;36minner\u001b[0;34m(ax, data, *args, **kwargs)\u001b[0m\n\u001b[1;32m   1440\u001b[0m     \u001b[0;32mdef\u001b[0m \u001b[0minner\u001b[0m\u001b[0;34m(\u001b[0m\u001b[0max\u001b[0m\u001b[0;34m,\u001b[0m \u001b[0;34m*\u001b[0m\u001b[0margs\u001b[0m\u001b[0;34m,\u001b[0m \u001b[0mdata\u001b[0m\u001b[0;34m=\u001b[0m\u001b[0;32mNone\u001b[0m\u001b[0;34m,\u001b[0m \u001b[0;34m**\u001b[0m\u001b[0mkwargs\u001b[0m\u001b[0;34m)\u001b[0m\u001b[0;34m:\u001b[0m\u001b[0;34m\u001b[0m\u001b[0;34m\u001b[0m\u001b[0m\n\u001b[1;32m   1441\u001b[0m         \u001b[0;32mif\u001b[0m \u001b[0mdata\u001b[0m \u001b[0;32mis\u001b[0m \u001b[0;32mNone\u001b[0m\u001b[0;34m:\u001b[0m\u001b[0;34m\u001b[0m\u001b[0;34m\u001b[0m\u001b[0m\n\u001b[0;32m-> 1442\u001b[0;31m             \u001b[0;32mreturn\u001b[0m \u001b[0mfunc\u001b[0m\u001b[0;34m(\u001b[0m\u001b[0max\u001b[0m\u001b[0;34m,\u001b[0m \u001b[0;34m*\u001b[0m\u001b[0mmap\u001b[0m\u001b[0;34m(\u001b[0m\u001b[0msanitize_sequence\u001b[0m\u001b[0;34m,\u001b[0m \u001b[0margs\u001b[0m\u001b[0;34m)\u001b[0m\u001b[0;34m,\u001b[0m \u001b[0;34m**\u001b[0m\u001b[0mkwargs\u001b[0m\u001b[0;34m)\u001b[0m\u001b[0;34m\u001b[0m\u001b[0;34m\u001b[0m\u001b[0m\n\u001b[0m\u001b[1;32m   1443\u001b[0m \u001b[0;34m\u001b[0m\u001b[0m\n\u001b[1;32m   1444\u001b[0m         \u001b[0mbound\u001b[0m \u001b[0;34m=\u001b[0m \u001b[0mnew_sig\u001b[0m\u001b[0;34m.\u001b[0m\u001b[0mbind\u001b[0m\u001b[0;34m(\u001b[0m\u001b[0max\u001b[0m\u001b[0;34m,\u001b[0m \u001b[0;34m*\u001b[0m\u001b[0margs\u001b[0m\u001b[0;34m,\u001b[0m \u001b[0;34m**\u001b[0m\u001b[0mkwargs\u001b[0m\u001b[0;34m)\u001b[0m\u001b[0;34m\u001b[0m\u001b[0;34m\u001b[0m\u001b[0m\n",
            "\u001b[0;32m/usr/local/lib/python3.10/dist-packages/matplotlib/axes/_axes.py\u001b[0m in \u001b[0;36mimshow\u001b[0;34m(self, X, cmap, norm, aspect, interpolation, alpha, vmin, vmax, origin, extent, interpolation_stage, filternorm, filterrad, resample, url, **kwargs)\u001b[0m\n\u001b[1;32m   5663\u001b[0m                               **kwargs)\n\u001b[1;32m   5664\u001b[0m \u001b[0;34m\u001b[0m\u001b[0m\n\u001b[0;32m-> 5665\u001b[0;31m         \u001b[0mim\u001b[0m\u001b[0;34m.\u001b[0m\u001b[0mset_data\u001b[0m\u001b[0;34m(\u001b[0m\u001b[0mX\u001b[0m\u001b[0;34m)\u001b[0m\u001b[0;34m\u001b[0m\u001b[0;34m\u001b[0m\u001b[0m\n\u001b[0m\u001b[1;32m   5666\u001b[0m         \u001b[0mim\u001b[0m\u001b[0;34m.\u001b[0m\u001b[0mset_alpha\u001b[0m\u001b[0;34m(\u001b[0m\u001b[0malpha\u001b[0m\u001b[0;34m)\u001b[0m\u001b[0;34m\u001b[0m\u001b[0;34m\u001b[0m\u001b[0m\n\u001b[1;32m   5667\u001b[0m         \u001b[0;32mif\u001b[0m \u001b[0mim\u001b[0m\u001b[0;34m.\u001b[0m\u001b[0mget_clip_path\u001b[0m\u001b[0;34m(\u001b[0m\u001b[0;34m)\u001b[0m \u001b[0;32mis\u001b[0m \u001b[0;32mNone\u001b[0m\u001b[0;34m:\u001b[0m\u001b[0;34m\u001b[0m\u001b[0;34m\u001b[0m\u001b[0m\n",
            "\u001b[0;32m/usr/local/lib/python3.10/dist-packages/matplotlib/image.py\u001b[0m in \u001b[0;36mset_data\u001b[0;34m(self, A)\u001b[0m\n\u001b[1;32m    708\u001b[0m         if not (self._A.ndim == 2\n\u001b[1;32m    709\u001b[0m                 or self._A.ndim == 3 and self._A.shape[-1] in [3, 4]):\n\u001b[0;32m--> 710\u001b[0;31m             raise TypeError(\"Invalid shape {} for image data\"\n\u001b[0m\u001b[1;32m    711\u001b[0m                             .format(self._A.shape))\n\u001b[1;32m    712\u001b[0m \u001b[0;34m\u001b[0m\u001b[0m\n",
            "\u001b[0;31mTypeError\u001b[0m: Invalid shape (3, 32, 32) for image data"
          ]
        },
        {
          "output_type": "display_data",
          "data": {
            "text/plain": [
              "<Figure size 640x480 with 1 Axes>"
            ],
            "image/png": "[encoded data removed]"
          },
          "metadata": {}
        }
      ]
    },
    {
      "cell_type": "code",
      "source": [
        "plt.imshow(img_t.permute(1,2,0))"
      ],
      "metadata": {
        "colab": {
          "base_uri": "https://localhost:8080/",
          "height": 447
        },
        "id": "9ruCnCRqusL_",
        "outputId": "3a2b7f4a-34d6-4704-a8d1-b9b3bb4a1e75"
      },
      "execution_count": 28,
      "outputs": [
        {
          "output_type": "execute_result",
          "data": {
            "text/plain": [
              "<matplotlib.image.AxesImage at 0x7ee8d07f86a0>"
            ]
          },
          "metadata": {},
          "execution_count": 28
        },
        {
          "output_type": "display_data",
          "data": {
            "text/plain": [
              "<Figure size 640x480 with 1 Axes>"
            ],
            "image/png": "[encoded data removed]"
          },
          "metadata": {}
        }
      ]
    },
    {
      "cell_type": "markdown",
      "source": [
        "When you use imshow from Matplotlib to display an image, it expects the color channel to be the last dimension of the input image."
      ],
      "metadata": {
        "id": "NpstKL2PviBL"
      }
    },
    {
      "cell_type": "code",
      "source": [],
      "metadata": {
        "id": "r1JiBTKEuzHS"
      },
      "execution_count": 28,
      "outputs": []
    },
    {
      "cell_type": "markdown",
      "source": [
        "#Normalize dataset"
      ],
      "metadata": {
        "id": "s3CF4upvyOfn"
      }
    },
    {
      "cell_type": "markdown",
      "source": [
        "When you use imshow from Matplotlib to display an image, it expects the color channel to be the last dimension of the input image."
      ],
      "metadata": {
        "id": "v7nUD7mfyiiQ"
      }
    },
    {
      "cell_type": "markdown",
      "source": [
        "When you use imshow from Matplotlib to display an image, it expects the color channel to be the last dimension of the input image."
      ],
      "metadata": {
        "id": "ratPaUG2ywpa"
      }
    },
    {
      "cell_type": "code",
      "source": [
        "imgs = torch.stack([img_t for img_t, _ in tensor_cifar10], dim=3)\n",
        "imgs"
      ],
      "metadata": {
        "colab": {
          "base_uri": "https://localhost:8080/"
        },
        "id": "dXLx6VrZyRCq",
        "outputId": "5b02c628-a669-4e52-9417-1497fe8f6e15"
      },
      "execution_count": 29,
      "outputs": [
        {
          "output_type": "execute_result",
          "data": {
            "text/plain": [
              "tensor([[[[0.2314, 0.6039, 1.0000,  ..., 0.1373, 0.7412, 0.8980],\n",
              "          [0.1686, 0.4941, 0.9922,  ..., 0.1569, 0.7294, 0.9255],\n",
              "          [0.1961, 0.4118, 0.9922,  ..., 0.1647, 0.7255, 0.9176],\n",
              "          ...,\n",
              "          [0.6196, 0.3569, 0.9922,  ..., 0.3882, 0.6863, 0.8510],\n",
              "          [0.5961, 0.3412, 0.9922,  ..., 0.3098, 0.6745, 0.8667],\n",
              "          [0.5804, 0.3098, 0.9922,  ..., 0.3490, 0.6627, 0.8706]],\n",
              "\n",
              "         [[0.0627, 0.5490, 1.0000,  ..., 0.2235, 0.7608, 0.8706],\n",
              "          [0.0000, 0.5686, 1.0000,  ..., 0.1725, 0.7490, 0.9373],\n",
              "          [0.0706, 0.4902, 1.0000,  ..., 0.1961, 0.7451, 0.9137],\n",
              "          ...,\n",
              "          [0.4824, 0.3765, 1.0000,  ..., 0.6118, 0.6784, 0.8745],\n",
              "          [0.4667, 0.3020, 1.0000,  ..., 0.5529, 0.6706, 0.8902],\n",
              "          [0.4784, 0.2784, 1.0000,  ..., 0.4549, 0.6549, 0.8235]],\n",
              "\n",
              "         [[0.0980, 0.5490, 1.0000,  ..., 0.3843, 0.8157, 0.8353],\n",
              "          [0.0627, 0.5451, 0.9961,  ..., 0.2510, 0.8039, 0.9176],\n",
              "          [0.1922, 0.4510, 0.9961,  ..., 0.2706, 0.8000, 0.9059],\n",
              "          ...,\n",
              "          [0.4627, 0.3098, 0.9961,  ..., 0.7373, 0.6863, 0.8627],\n",
              "          [0.4706, 0.2667, 0.9961,  ..., 0.4667, 0.6745, 0.8627],\n",
              "          [0.4275, 0.2627, 0.9961,  ..., 0.2392, 0.6627, 0.7922]],\n",
              "\n",
              "         ...,\n",
              "\n",
              "         [[0.8157, 0.6863, 0.4431,  ..., 0.2863, 0.8118, 0.5882],\n",
              "          [0.7882, 0.6118, 0.4353,  ..., 0.2078, 0.7961, 0.5490],\n",
              "          [0.7765, 0.6039, 0.4118,  ..., 0.2118, 0.7961, 0.5176],\n",
              "          ...,\n",
              "          [0.6275, 0.1647, 0.2824,  ..., 0.0667, 0.5294, 0.8784],\n",
              "          [0.2196, 0.2392, 0.2824,  ..., 0.0824, 0.6353, 0.9020],\n",
              "          [0.2078, 0.3647, 0.2824,  ..., 0.1294, 0.6588, 0.9451]],\n",
              "\n",
              "         [[0.7059, 0.6471, 0.4353,  ..., 0.2392, 0.7765, 0.5373],\n",
              "          [0.6784, 0.6118, 0.4078,  ..., 0.2157, 0.7412, 0.5098],\n",
              "          [0.7294, 0.6235, 0.3882,  ..., 0.2235, 0.7059, 0.4902],\n",
              "          ...,\n",
              "          [0.7216, 0.4039, 0.2667,  ..., 0.0941, 0.6980, 0.7098],\n",
              "          [0.3804, 0.4824, 0.2745,  ..., 0.0667, 0.6863, 0.7922],\n",
              "          [0.3255, 0.5137, 0.3059,  ..., 0.0275, 0.6863, 0.8314]],\n",
              "\n",
              "         [[0.6941, 0.6392, 0.4157,  ..., 0.1725, 0.7765, 0.4784],\n",
              "          [0.6588, 0.6196, 0.3882,  ..., 0.1804, 0.7412, 0.4627],\n",
              "          [0.7020, 0.6392, 0.3725,  ..., 0.1922, 0.6980, 0.4706],\n",
              "          ...,\n",
              "          [0.8471, 0.5608, 0.3059,  ..., 0.1059, 0.7647, 0.7020],\n",
              "          [0.5922, 0.5608, 0.3098,  ..., 0.0824, 0.7686, 0.6431],\n",
              "          [0.4824, 0.5608, 0.3137,  ..., 0.0471, 0.7647, 0.6392]]],\n",
              "\n",
              "\n",
              "        [[[0.2431, 0.6941, 1.0000,  ..., 0.6980, 0.8275, 0.8980],\n",
              "          [0.1804, 0.5373, 0.9922,  ..., 0.6902, 0.8157, 0.9294],\n",
              "          [0.1882, 0.4078, 0.9922,  ..., 0.6902, 0.8118, 0.9255],\n",
              "          ...,\n",
              "          [0.5176, 0.3725, 0.9922,  ..., 0.6941, 0.7647, 0.8588],\n",
              "          [0.4902, 0.3529, 0.9922,  ..., 0.5765, 0.7608, 0.8745],\n",
              "          [0.4863, 0.3176, 0.9922,  ..., 0.5804, 0.7608, 0.8745]],\n",
              "\n",
              "         [[0.0784, 0.6275, 1.0000,  ..., 0.7137, 0.8235, 0.8667],\n",
              "          [0.0000, 0.6000, 1.0000,  ..., 0.7216, 0.8118, 0.9373],\n",
              "          [0.0314, 0.4902, 1.0000,  ..., 0.7176, 0.8078, 0.9176],\n",
              "          ...,\n",
              "          [0.3451, 0.3882, 1.0000,  ..., 0.7137, 0.7529, 0.8745],\n",
              "          [0.3255, 0.3137, 1.0000,  ..., 0.6941, 0.7490, 0.8941],\n",
              "          [0.3412, 0.2863, 1.0000,  ..., 0.5843, 0.7451, 0.8275]],\n",
              "\n",
              "         [[0.0941, 0.6078, 1.0000,  ..., 0.7725, 0.8588, 0.8078],\n",
              "          [0.0275, 0.5725, 0.9961,  ..., 0.7412, 0.8471, 0.9098],\n",
              "          [0.1059, 0.4510, 0.9961,  ..., 0.7529, 0.8431, 0.9137],\n",
              "          ...,\n",
              "          [0.3294, 0.3216, 0.9961,  ..., 0.7647, 0.7490, 0.8627],\n",
              "          [0.3294, 0.2745, 0.9961,  ..., 0.5294, 0.7451, 0.8588],\n",
              "          [0.2863, 0.2706, 0.9961,  ..., 0.3098, 0.7490, 0.7961]],\n",
              "\n",
              "         ...,\n",
              "\n",
              "         [[0.6667, 0.6549, 0.4706,  ..., 0.3098, 0.7804, 0.5608],\n",
              "          [0.6000, 0.6039, 0.4627,  ..., 0.2471, 0.7647, 0.5294],\n",
              "          [0.6314, 0.6275, 0.4392,  ..., 0.2667, 0.7686, 0.4980],\n",
              "          ...,\n",
              "          [0.5216, 0.1333, 0.3176,  ..., 0.1569, 0.5176, 0.8706],\n",
              "          [0.1216, 0.2078, 0.3137,  ..., 0.1412, 0.6196, 0.8941],\n",
              "          [0.1333, 0.3255, 0.3137,  ..., 0.1882, 0.6392, 0.9451]],\n",
              "\n",
              "         [[0.5451, 0.6039, 0.4627,  ..., 0.2667, 0.7451, 0.5176],\n",
              "          [0.4824, 0.5961, 0.4353,  ..., 0.2745, 0.7098, 0.4980],\n",
              "          [0.5647, 0.6314, 0.4157,  ..., 0.3098, 0.6745, 0.4745],\n",
              "          ...,\n",
              "          [0.5804, 0.3647, 0.2941,  ..., 0.1882, 0.6706, 0.7059],\n",
              "          [0.2431, 0.4471, 0.2980,  ..., 0.1373, 0.6627, 0.7882],\n",
              "          [0.2078, 0.4745, 0.3294,  ..., 0.0902, 0.6627, 0.8275]],\n",
              "\n",
              "         [[0.5647, 0.5804, 0.4431,  ..., 0.2196, 0.7412, 0.4667],\n",
              "          [0.5059, 0.5804, 0.4157,  ..., 0.2588, 0.7098, 0.4549],\n",
              "          [0.5569, 0.6118, 0.4000,  ..., 0.3020, 0.6667, 0.4549],\n",
              "          ...,\n",
              "          [0.7216, 0.5216, 0.3333,  ..., 0.2039, 0.7216, 0.6941],\n",
              "          [0.4627, 0.5255, 0.3333,  ..., 0.1686, 0.7412, 0.6431],\n",
              "          [0.3608, 0.5216, 0.3373,  ..., 0.1216, 0.7451, 0.6392]]],\n",
              "\n",
              "\n",
              "        [[[0.2471, 0.7333, 1.0000,  ..., 0.9216, 0.9412, 0.9373],\n",
              "          [0.1765, 0.5333, 0.9922,  ..., 0.9373, 0.9255, 0.9686],\n",
              "          [0.1686, 0.3725, 0.9922,  ..., 0.9451, 0.9216, 0.9686],\n",
              "          ...,\n",
              "          [0.4235, 0.2784, 0.9922,  ..., 0.8588, 0.8784, 0.9137],\n",
              "          [0.4000, 0.2784, 0.9922,  ..., 0.7725, 0.8706, 0.9176],\n",
              "          [0.4039, 0.2745, 0.9922,  ..., 0.7412, 0.8627, 0.9137]],\n",
              "\n",
              "         [[0.0784, 0.6627, 1.0000,  ..., 0.9176, 0.9373, 0.8980],\n",
              "          [0.0000, 0.6039, 1.0000,  ..., 0.9804, 0.9255, 0.9765],\n",
              "          [0.0000, 0.4627, 1.0000,  ..., 0.9412, 0.9216, 0.9647],\n",
              "          ...,\n",
              "          [0.2157, 0.3059, 1.0000,  ..., 0.7843, 0.8627, 0.9255],\n",
              "          [0.1961, 0.2431, 1.0000,  ..., 0.8078, 0.8549, 0.9333],\n",
              "          [0.2235, 0.2392, 1.0000,  ..., 0.6863, 0.8471, 0.8627]],\n",
              "\n",
              "         [[0.0824, 0.6431, 1.0000,  ..., 0.9294, 0.9569, 0.8275],\n",
              "          [0.0000, 0.5843, 0.9961,  ..., 0.9882, 0.9412, 0.9373],\n",
              "          [0.0314, 0.4392, 0.9961,  ..., 0.9608, 0.9373, 0.9569],\n",
              "          ...,\n",
              "          [0.1961, 0.2510, 0.9961,  ..., 0.8078, 0.8510, 0.9098],\n",
              "          [0.1961, 0.2157, 0.9961,  ..., 0.5765, 0.8471, 0.9098],\n",
              "          [0.1647, 0.2157, 0.9961,  ..., 0.3529, 0.8431, 0.8431]],\n",
              "\n",
              "         ...,\n",
              "\n",
              "         [[0.3765, 0.6510, 0.4392,  ..., 0.3020, 0.7098, 0.5294],\n",
              "          [0.1333, 0.6275, 0.4353,  ..., 0.2667, 0.6863, 0.4980],\n",
              "          [0.1020, 0.6667, 0.4157,  ..., 0.3137, 0.6784, 0.4706],\n",
              "          ...,\n",
              "          [0.2745, 0.1412, 0.3137,  ..., 0.2510, 0.4980, 0.8549],\n",
              "          [0.0275, 0.2235, 0.3098,  ..., 0.2000, 0.5882, 0.8824],\n",
              "          [0.0784, 0.3569, 0.3098,  ..., 0.1922, 0.5922, 0.9333]],\n",
              "\n",
              "         [[0.3765, 0.5020, 0.4314,  ..., 0.2941, 0.6667, 0.4941],\n",
              "          [0.1647, 0.5098, 0.4078,  ..., 0.3373, 0.6235, 0.4706],\n",
              "          [0.1176, 0.5569, 0.3843,  ..., 0.4039, 0.5765, 0.4510],\n",
              "          ...,\n",
              "          [0.3686, 0.3765, 0.2863,  ..., 0.2824, 0.6275, 0.6980],\n",
              "          [0.1333, 0.4706, 0.2941,  ..., 0.2078, 0.6118, 0.7765],\n",
              "          [0.1333, 0.5137, 0.3216,  ..., 0.1255, 0.6039, 0.8118]],\n",
              "\n",
              "         [[0.4549, 0.4706, 0.4118,  ..., 0.2863, 0.6784, 0.4471],\n",
              "          [0.3686, 0.4784, 0.3843,  ..., 0.3451, 0.6353, 0.4314],\n",
              "          [0.3412, 0.5216, 0.3686,  ..., 0.4118, 0.5843, 0.4353],\n",
              "          ...,\n",
              "          [0.5490, 0.5451, 0.3255,  ..., 0.3020, 0.6627, 0.6784],\n",
              "          [0.3294, 0.5569, 0.3255,  ..., 0.2588, 0.6706, 0.6353],\n",
              "          [0.2824, 0.5647, 0.3294,  ..., 0.1961, 0.6706, 0.6314]]]])"
            ]
          },
          "metadata": {},
          "execution_count": 29
        }
      ]
    },
    {
      "cell_type": "code",
      "source": [
        "imgs.shape"
      ],
      "metadata": {
        "colab": {
          "base_uri": "https://localhost:8080/"
        },
        "id": "PQiP9yLzzWzZ",
        "outputId": "abe09081-6b5a-4048-b0e9-ad02e150309c"
      },
      "execution_count": 30,
      "outputs": [
        {
          "output_type": "execute_result",
          "data": {
            "text/plain": [
              "torch.Size([3, 32, 32, 50000])"
            ]
          },
          "metadata": {},
          "execution_count": 30
        }
      ]
    },
    {
      "cell_type": "code",
      "source": [
        "imgs.view(3,-1).mean(dim=1) #calculate mean"
      ],
      "metadata": {
        "colab": {
          "base_uri": "https://localhost:8080/"
        },
        "id": "72Rk5rBj1OJd",
        "outputId": "8030b201-199b-45da-fb48-c6aeff128bb9"
      },
      "execution_count": 31,
      "outputs": [
        {
          "output_type": "execute_result",
          "data": {
            "text/plain": [
              "tensor([0.4914, 0.4822, 0.4465])"
            ]
          },
          "metadata": {},
          "execution_count": 31
        }
      ]
    },
    {
      "cell_type": "code",
      "source": [
        "imgs.view(3,-1).std(dim=1) #calculate standard deviation"
      ],
      "metadata": {
        "colab": {
          "base_uri": "https://localhost:8080/"
        },
        "id": "G43i9nVe1VqY",
        "outputId": "be1d3a1b-ea3f-4c4c-e0a0-6ae2202bddf8"
      },
      "execution_count": 32,
      "outputs": [
        {
          "output_type": "execute_result",
          "data": {
            "text/plain": [
              "tensor([0.2470, 0.2435, 0.2616])"
            ]
          },
          "metadata": {},
          "execution_count": 32
        }
      ]
    },
    {
      "cell_type": "markdown",
      "source": [],
      "metadata": {
        "id": "NSyFxq3TFA0K"
      }
    },
    {
      "cell_type": "code",
      "source": [
        "transformed_cifar10 = datasets.CIFAR10(\n",
        "    data_path, train=True, download=False,\n",
        "    transform = transforms.Compose([\n",
        "    transforms.ToTensor(),\n",
        "    transforms.Normalize((0.4914, 0.4822, 0.4465),(0.2470, 0.2435, 0.2616))\n",
        "\n",
        "]))"
      ],
      "metadata": {
        "id": "24x5ZmIU1aTc"
      },
      "execution_count": 41,
      "outputs": []
    },
    {
      "cell_type": "markdown",
      "source": [
        "as now we normalized our image,\n",
        "\n",
        "plotting an image drawn from dataset won't provide us with a faitjful represenation of the actual image :"
      ],
      "metadata": {
        "id": "i2IunAPhHg4b"
      }
    },
    {
      "cell_type": "code",
      "source": [
        "transformed_cifar10"
      ],
      "metadata": {
        "colab": {
          "base_uri": "https://localhost:8080/"
        },
        "id": "7kuTpY0hIKAC",
        "outputId": "4846b64e-142d-47b9-969d-ad61cf2b7518"
      },
      "execution_count": 45,
      "outputs": [
        {
          "output_type": "execute_result",
          "data": {
            "text/plain": [
              "Dataset CIFAR10\n",
              "    Number of datapoints: 50000\n",
              "    Root location: /content/dataset_cifar10\n",
              "    Split: Train\n",
              "    StandardTransform\n",
              "Transform: Compose(\n",
              "               ToTensor()\n",
              "               Normalize(mean=(0.4914, 0.4822, 0.4465), std=(0.247, 0.2435, 0.2616))\n",
              "           )"
            ]
          },
          "metadata": {},
          "execution_count": 45
        }
      ]
    },
    {
      "cell_type": "code",
      "source": [
        "transformed_cifar10[99]"
      ],
      "metadata": {
        "colab": {
          "base_uri": "https://localhost:8080/"
        },
        "id": "mIIIl1exILUD",
        "outputId": "81f1cef7-ac04-4c4e-b523-2d9dde0c537e"
      },
      "execution_count": 46,
      "outputs": [
        {
          "output_type": "execute_result",
          "data": {
            "text/plain": [
              "(tensor([[[-1.0051, -1.1956, -1.2591,  ...,  0.6620,  0.9160,  0.1856],\n",
              "          [-0.9892, -1.1163, -1.1639,  ...,  0.5984,  0.7255,  0.3127],\n",
              "          [-1.0686, -0.9734, -1.1004,  ...,  0.4397,  0.3920, -0.0366],\n",
              "          ...,\n",
              "          [ 0.7413,  0.2809,  0.0745,  ..., -0.4971,  0.2492,  0.2174],\n",
              "          [ 0.9160,  0.3920, -0.7193,  ..., -0.7035,  0.1539,  0.2809],\n",
              "          [ 1.3288,  0.9001,  0.2174,  ..., -1.0527,  0.0745,  0.6937]],\n",
              " \n",
              "         [[-0.9496, -1.1750, -1.2717,  ...,  0.7898,  0.9830,  0.2100],\n",
              "          [-0.9335, -1.1267, -1.1750,  ...,  0.7415,  0.8220,  0.3710],\n",
              "          [-0.9818, -0.9174, -1.0140,  ...,  0.5160,  0.4999,  0.0812],\n",
              "          ...,\n",
              "          [ 0.1939, -0.2087, -1.0784,  ..., -0.7724, -0.2409, -0.2893],\n",
              "          [ 0.3710, -0.0799, -0.9496,  ..., -0.8207, -0.0799,  0.0328],\n",
              "          [ 0.8220,  0.4516, -0.2248,  ..., -1.1106, -0.0638,  0.5321]],\n",
              " \n",
              "         [[-1.0472, -1.3170, -1.4220,  ..., -0.6724, -0.5675, -0.6275],\n",
              "          [-1.1521, -1.3170, -1.3021,  ..., -0.7924, -0.5825, -0.5525],\n",
              "          [-1.1671, -1.1521, -1.1521,  ..., -0.7774, -0.7474, -0.8523],\n",
              "          ...,\n",
              "          [-0.2227, -0.4476, -1.0772,  ..., -0.8673, -0.4176, -0.4926],\n",
              "          [ 0.0471, -0.2827, -1.0472,  ..., -0.8074, -0.2377, -0.0578],\n",
              "          [ 0.4519,  0.1371, -0.4626,  ..., -1.0022, -0.0428,  0.6917]]]),\n",
              " 1)"
            ]
          },
          "metadata": {},
          "execution_count": 46
        }
      ]
    },
    {
      "cell_type": "code",
      "source": [
        "img_transformed,_ = transformed_cifar10[99]"
      ],
      "metadata": {
        "id": "nkSO1NzzGqGX"
      },
      "execution_count": 47,
      "outputs": []
    },
    {
      "cell_type": "code",
      "source": [
        "plt.imshow(img_transformed.permute(1,2,0))\n"
      ],
      "metadata": {
        "colab": {
          "base_uri": "https://localhost:8080/",
          "height": 485
        },
        "id": "aMbr199sHzBC",
        "outputId": "5b0a7730-4d20-4cfb-f158-441772237e82"
      },
      "execution_count": 48,
      "outputs": [
        {
          "output_type": "stream",
          "name": "stderr",
          "text": [
            "WARNING:matplotlib.image:Clipping input data to the valid range for imshow with RGB data ([0..1] for floats or [0..255] for integers).\n"
          ]
        },
        {
          "output_type": "execute_result",
          "data": {
            "text/plain": [
              "<matplotlib.image.AxesImage at 0x7ee88ecf0a00>"
            ]
          },
          "metadata": {},
          "execution_count": 48
        },
        {
          "output_type": "display_data",
          "data": {
            "text/plain": [
              "<Figure size 640x480 with 1 Axes>"
            ],
            "image/png": "[encoded data removed]"
          },
          "metadata": {}
        }
      ]
    },
    {
      "cell_type": "code",
      "source": [],
      "metadata": {
        "id": "OOuUynzdIAkJ"
      },
      "execution_count": null,
      "outputs": []
    },
    {
      "cell_type": "code",
      "source": [],
      "metadata": {
        "id": "7y_Q6gvOIJVE"
      },
      "execution_count": null,
      "outputs": []
    }
  ]
}